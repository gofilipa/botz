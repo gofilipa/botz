{
  "cells": [
    {
      "cell_type": "markdown",
      "metadata": {
        "id": "M5f4Boi8gZNw"
      },
      "source": [
        "# In-Class Tutorial\n",
        "- modified version of https://inspectelement.org/apis.html#tutorial"
      ]
    },
    {
      "cell_type": "code",
      "source": [
        "import requests\n",
        "\n",
        "cookies = {\n",
        "    'SEARCH_SAMESITE': 'CgQI7JgB',\n",
        "    'HSID': 'AWHPrQDKg16oBzC0B',\n",
        "    'SSID': 'AGLgAogzFGZjwqewa',\n",
        "    'APISID': 'WMpiPKcmhVh-L0NI/AZg1bHO2u7qNBI8Xq',\n",
        "    'SAPISID': '80iiBWsqvJetodKW/AgJQr26Tsk-tL_4TB',\n",
        "    '__Secure-1PAPISID': '80iiBWsqvJetodKW/AgJQr26Tsk-tL_4TB',\n",
        "    '__Secure-3PAPISID': '80iiBWsqvJetodKW/AgJQr26Tsk-tL_4TB',\n",
        "    'SID': 'bQifCeHUbvs-ikTcibX_DVYC6Mmjf9VwLURT2dkOn7ODNLgsxb545s9EZq2GL3Y1URBw7Q.',\n",
        "    '__Secure-1PSID': 'bQifCeHUbvs-ikTcibX_DVYC6Mmjf9VwLURT2dkOn7ODNLgsMqzLgDr9aYLjJVEOp0UbDA.',\n",
        "    '__Secure-3PSID': 'bQifCeHUbvs-ikTcibX_DVYC6Mmjf9VwLURT2dkOn7ODNLgsRci2fUAoe04Wfn4GM7MUuA.',\n",
        "    'OGPC': '19022622-1:',\n",
        "    'OGP': '-19022622:',\n",
        "    'AEC': 'Ackid1TH9DWAPXTzYJEM1NDZL1o8VyHe-dS2whcFljKal3bGPDxSjOQgHBU',\n",
        "    'NID': '511=CIIT3BdBimbf-PHONIoFMgs-izUAtzJ9fa_AqWc9D9cUEA_pm9ZqDLu4ptA-QFVe_q9Fv59heien-QRCFG-e9ckOn27se_fkAFp8MqTUlWvsvVot4vftIKFYdnFTeH20Nd1olaTBb1r8a3LfpZCBnLS8T1YUQAU4rIYkhED50Ln6zUQb3OJ5EMQwzHeubH_XXQSQrCCqoWyap37lhLOBFgQDgnLVmb4l4M2VFe2tyzNKA0o5jjaYGzfls1Ap-WrDt8hKFOy-mXsewYshHvfPL6_mDa5bp4fEiWGU5GC5zY5C455OAU_1j_sn__WytA',\n",
        "    '1P_JAR': '2023-10-12-19',\n",
        "    '__Secure-1PSIDTS': 'sidts-CjEB3e41hT1IAM5SPqQv6qMSM8Q2oPzvg3Q_KmO5ohssoBbqOrQFRcm1LgH0NGChnfiDEAA',\n",
        "    '__Secure-3PSIDTS': 'sidts-CjEB3e41hT1IAM5SPqQv6qMSM8Q2oPzvg3Q_KmO5ohssoBbqOrQFRcm1LgH0NGChnfiDEAA',\n",
        "    'SIDCC': 'ACA-OxOZJPP-mjDKDLExR6OrnqptWNPrd-AicVtgVmmkEjh9L1lARobLKr5SkvhXKNv6si9kF_Q',\n",
        "    '__Secure-1PSIDCC': 'ACA-OxPGKANWNHup9PhJZRaeccPumd6yzoPxgv2oYeSpeR47BFg1CNW08f2H9T4s9YBUwqkcNQHS',\n",
        "    '__Secure-3PSIDCC': 'ACA-OxM6iR1MCie8MfaYgBqzIoGtqu6T-e68NeecllggCxbqZamST5dRnj4_kkZDW2WZ7cCbvDNv',\n",
        "}\n",
        "\n",
        "headers = {\n",
        "    'authority': 'www.google.com',\n",
        "    'accept': '*/*',\n",
        "    'accept-language': 'en-US,en;q=0.9',\n",
        "    # 'cookie': 'SEARCH_SAMESITE=CgQI7JgB; HSID=AWHPrQDKg16oBzC0B; SSID=AGLgAogzFGZjwqewa; APISID=WMpiPKcmhVh-L0NI/AZg1bHO2u7qNBI8Xq; SAPISID=80iiBWsqvJetodKW/AgJQr26Tsk-tL_4TB; __Secure-1PAPISID=80iiBWsqvJetodKW/AgJQr26Tsk-tL_4TB; __Secure-3PAPISID=80iiBWsqvJetodKW/AgJQr26Tsk-tL_4TB; SID=bQifCeHUbvs-ikTcibX_DVYC6Mmjf9VwLURT2dkOn7ODNLgsxb545s9EZq2GL3Y1URBw7Q.; __Secure-1PSID=bQifCeHUbvs-ikTcibX_DVYC6Mmjf9VwLURT2dkOn7ODNLgsMqzLgDr9aYLjJVEOp0UbDA.; __Secure-3PSID=bQifCeHUbvs-ikTcibX_DVYC6Mmjf9VwLURT2dkOn7ODNLgsRci2fUAoe04Wfn4GM7MUuA.; OGPC=19022622-1:; OGP=-19022622:; AEC=Ackid1TH9DWAPXTzYJEM1NDZL1o8VyHe-dS2whcFljKal3bGPDxSjOQgHBU; NID=511=CIIT3BdBimbf-PHONIoFMgs-izUAtzJ9fa_AqWc9D9cUEA_pm9ZqDLu4ptA-QFVe_q9Fv59heien-QRCFG-e9ckOn27se_fkAFp8MqTUlWvsvVot4vftIKFYdnFTeH20Nd1olaTBb1r8a3LfpZCBnLS8T1YUQAU4rIYkhED50Ln6zUQb3OJ5EMQwzHeubH_XXQSQrCCqoWyap37lhLOBFgQDgnLVmb4l4M2VFe2tyzNKA0o5jjaYGzfls1Ap-WrDt8hKFOy-mXsewYshHvfPL6_mDa5bp4fEiWGU5GC5zY5C455OAU_1j_sn__WytA; 1P_JAR=2023-10-12-19; __Secure-1PSIDTS=sidts-CjEB3e41hT1IAM5SPqQv6qMSM8Q2oPzvg3Q_KmO5ohssoBbqOrQFRcm1LgH0NGChnfiDEAA; __Secure-3PSIDTS=sidts-CjEB3e41hT1IAM5SPqQv6qMSM8Q2oPzvg3Q_KmO5ohssoBbqOrQFRcm1LgH0NGChnfiDEAA; SIDCC=ACA-OxOZJPP-mjDKDLExR6OrnqptWNPrd-AicVtgVmmkEjh9L1lARobLKr5SkvhXKNv6si9kF_Q; __Secure-1PSIDCC=ACA-OxPGKANWNHup9PhJZRaeccPumd6yzoPxgv2oYeSpeR47BFg1CNW08f2H9T4s9YBUwqkcNQHS; __Secure-3PSIDCC=ACA-OxM6iR1MCie8MfaYgBqzIoGtqu6T-e68NeecllggCxbqZamST5dRnj4_kkZDW2WZ7cCbvDNv',\n",
        "    'referer': 'https://www.google.com/',\n",
        "    'sec-ch-ua': '\"Google Chrome\";v=\"117\", \"Not;A=Brand\";v=\"8\", \"Chromium\";v=\"117\"',\n",
        "    'sec-ch-ua-arch': '\"x86\"',\n",
        "    'sec-ch-ua-bitness': '\"64\"',\n",
        "    'sec-ch-ua-full-version': '\"117.0.5938.149\"',\n",
        "    'sec-ch-ua-full-version-list': '\"Google Chrome\";v=\"117.0.5938.149\", \"Not;A=Brand\";v=\"8.0.0.0\", \"Chromium\";v=\"117.0.5938.149\"',\n",
        "    'sec-ch-ua-mobile': '?0',\n",
        "    'sec-ch-ua-model': '\"\"',\n",
        "    'sec-ch-ua-platform': '\"macOS\"',\n",
        "    'sec-ch-ua-platform-version': '\"13.4.0\"',\n",
        "    'sec-ch-ua-wow64': '?0',\n",
        "    'sec-fetch-dest': 'empty',\n",
        "    'sec-fetch-mode': 'cors',\n",
        "    'sec-fetch-site': 'same-origin',\n",
        "    'user-agent': 'Mozilla/5.0 (Macintosh; Intel Mac OS X 10_15_7) AppleWebKit/537.36 (KHTML, like Gecko) Chrome/117.0.0.0 Safari/537.36',\n",
        "    'x-client-data': 'CKy1yQEIk7bJAQijtskBCKmdygEI9YDLAQiTocsBCJ3+zAEIhqDNAQjcvc0BCJLKzQEIucrNAQjF0c0BCLbUzQEIpNbNAQiL180BCKjYzQEIu9jNAQiX2c0BCObazQEI+cDUFRjpmM0BGLnSzQEY642lFw==',\n",
        "}\n",
        "\n",
        "params = {\n",
        "    'q': 'why are boomers o',\n",
        "    'cp': '17',\n",
        "    'client': 'gws-wiz',\n",
        "    'xssi': 't',\n",
        "    'gs_pcrt': 'undefined',\n",
        "    'hl': 'en',\n",
        "    'authuser': '0',\n",
        "    'psi': 'W0coZf3ZBsaw2roPqZey-Ak.1697138523698',\n",
        "    'dpr': '2',\n",
        "}\n",
        "\n",
        "response = requests.get('https://www.google.com/complete/search', params=params, cookies=cookies, headers=headers)"
      ],
      "metadata": {
        "id": "eI6PHimvXnc9"
      },
      "execution_count": 1,
      "outputs": []
    },
    {
      "cell_type": "code",
      "source": [
        "response.text"
      ],
      "metadata": {
        "colab": {
          "base_uri": "https://localhost:8080/",
          "height": 146
        },
        "id": "ZyudkcGgYYHl",
        "outputId": "f2e53a78-0fea-4cf6-bda6-fb5f00588386"
      },
      "execution_count": 2,
      "outputs": [
        {
          "output_type": "execute_result",
          "data": {
            "text/plain": [
              "')]}\\'\\n[[[\"why are boomers o\\\\u003cb\\\\u003ebsessed with socks on babies\\\\u003c\\\\/b\\\\u003e\",0,[512]],[\"why are boomers o\\\\u003cb\\\\u003ebsessed with work\\\\u003c\\\\/b\\\\u003e\",0,[512]],[\"why are boomers o\\\\u003cb\\\\u003ebsessed with minions\\\\u003c\\\\/b\\\\u003e\",0,[512]],[\"why are boomers o\\\\u003cb\\\\u003ebsessed with grandchildren\\\\u003c\\\\/b\\\\u003e\",0,[512]],[\"why are boomers o\\\\u003cb\\\\u003ebsessed with weight\\\\u003c\\\\/b\\\\u003e\",0,[512]],[\"why are boomers o\\\\u003cb\\\\u003ebsessed with facebook\\\\u003c\\\\/b\\\\u003e\",0,[512]],[\"why\\\\u003cb\\\\u003e do \\\\u003c\\\\/b\\\\u003eboomers\\\\u003cb\\\\u003e use\\\\u003c\\\\/b\\\\u003e\",0,[512,390,650]],[\"why\\\\u003cb\\\\u003e was \\\\u003c\\\\/b\\\\u003eboomers\\\\u003cb\\\\u003e cancelled\\\\u003c\\\\/b\\\\u003e\",0,[512,390,650]],[\"why boomers are\\\\u003cb\\\\u003e the best generation\\\\u003c\\\\/b\\\\u003e\",0,[512,390,650]],[\"why are boomers\\\\u003cb\\\\u003e worried about the economy\\\\u003c\\\\/b\\\\u003e\",0,[512,390,650]]],{\"q\":\"UflLKIZGg5AnreHEUxPayuglvus\"}]'"
            ],
            "application/vnd.google.colaboratory.intrinsic+json": {
              "type": "string"
            }
          },
          "metadata": {},
          "execution_count": 2
        }
      ]
    },
    {
      "cell_type": "markdown",
      "metadata": {
        "id": "0pHuB_oQgZNx"
      },
      "source": [
        "### 6. Curl to requests\n",
        "We can use a site like [curlconverter.com](https://curlconverter.com/) to convert the cURL we copied into a reusable API call. In this example, we use the default conversion to a Python `requests` script. You can do the same for any language and framework.\n",
        "\n",
        "Here is what the converted cURL looks like after being converted to a Python request:"
      ]
    },
    {
      "cell_type": "code",
      "execution_count": 2,
      "metadata": {
        "id": "bS0glJKOgZNy"
      },
      "outputs": [],
      "source": []
    },
    {
      "cell_type": "markdown",
      "metadata": {
        "id": "MukgbzXrgZNy"
      },
      "source": [
        "### 7. Strip it down\n",
        "\n",
        "You might be overwhelmed with the parameters that go into this API request. But many are not necessary -- we can try removing these parameters one-by-one. We'll keep the input parameters that correspond to the behavior we're studying (i.e. the query prefix).  \n",
        "\n",
        "#### Pro tips:\n",
        "\n",
        "- If you start getting an error (especially an error that indicates that the server pegged you as a robot), you might have removed too many parameters -- try adding some headers (e.g. user-agent) back to the request.\n",
        "\n",
        "- Parameter values can expire, so periodically test the request and each parameter to assure you only keep the shelf-stable parts."
      ]
    },
    {
      "cell_type": "code",
      "execution_count": 3,
      "metadata": {
        "id": "-yiD1zUbgZNy",
        "colab": {
          "base_uri": "https://localhost:8080/",
          "height": 54
        },
        "outputId": "2b675c60-5d1f-450e-e136-fb635aff33b5"
      },
      "outputs": [
        {
          "output_type": "execute_result",
          "data": {
            "text/plain": [
              "'window.google.ac.h([[[\"why are boomers so\\\\u003cb\\\\u003e rich\\\\u003c\\\\/b\\\\u003e\",0,[512]],[\"why are boomers so\\\\u003cb\\\\u003e wealthy\\\\u003c\\\\/b\\\\u003e\",0,[512]]],{\"q\":\"byvgzHhSitJ-TpBD0HfVPhemWRI\"}])'"
            ],
            "application/vnd.google.colaboratory.intrinsic+json": {
              "type": "string"
            }
          },
          "metadata": {},
          "execution_count": 3
        }
      ],
      "source": [
        "import requests\n",
        "\n",
        "params = {\n",
        "    'q': 'why are boomers so ',\n",
        "    'client': 'gws-wiz',\n",
        "}\n",
        "\n",
        "response = requests.get('https://www.google.com/complete/search', params=params)\n",
        "response.text"
      ]
    },
    {
      "cell_type": "markdown",
      "metadata": {
        "id": "MDxPHkqkgZNy"
      },
      "source": [
        "### 8. Recycle and reuse\n",
        "\n",
        "For convenience, we can write the stripped down API call as a function that takes any `keyword` as input."
      ]
    },
    {
      "cell_type": "code",
      "execution_count": 4,
      "metadata": {
        "id": "I21PYt5LgZNy",
        "colab": {
          "base_uri": "https://localhost:8080/"
        },
        "outputId": "013c4a5e-66cf-466f-9435-cafecf52abbd"
      },
      "outputs": [
        {
          "output_type": "execute_result",
          "data": {
            "text/plain": [
              "['why are boomers so rich', 'why are boomers so wealthy']"
            ]
          },
          "metadata": {},
          "execution_count": 4
        }
      ],
      "source": [
        "import re\n",
        "import json\n",
        "\n",
        "def remove_html_tags(string):\n",
        "    return re.sub('<[^<]+?>', '', string)\n",
        "\n",
        "def search_suggestions(keyword):\n",
        "    \"\"\"\n",
        "    Get autocompleted search suggestions for a `keyword` search on google.com.\n",
        "    \"\"\"\n",
        "    params = {\n",
        "        'q': keyword,\n",
        "        'client': 'gws-wiz',\n",
        "    }\n",
        "\n",
        "    response = requests.get('https://www.google.com/complete/search', params=params)\n",
        "\n",
        "    # clean response\n",
        "    clean = response.text.strip('window.google.ac.h()')\n",
        "    suggestions = json.loads(clean)[0]\n",
        "    suggestions = [remove_html_tags(suggest[0]) for suggest in suggestions]\n",
        "\n",
        "    return suggestions\n",
        "\n",
        "search_suggestions('why are boomers so ')"
      ]
    },
    {
      "cell_type": "code",
      "execution_count": 5,
      "metadata": {
        "id": "VaBmADKagZNz",
        "colab": {
          "base_uri": "https://localhost:8080/"
        },
        "outputId": "e0683fba-4e52-496a-9379-aa2793624fac"
      },
      "outputs": [
        {
          "output_type": "stream",
          "name": "stdout",
          "text": [
            "['why are boomers so rich', 'why are boomers so wealthy']\n",
            "['why are millennials so liberal', 'why are millennials so nostalgic', 'why are millennials so anxious', 'why are millennials so traumatized', 'why are millennials so lonely']\n",
            "['why is gen x so small', 'why is gen x so tough', 'why is gen x so short', 'why is gen x so long', 'why is gen x so cool', 'why is gen x so bougie', 'why is gen x so big']\n"
          ]
        }
      ],
      "source": [
        "keywords = ['why are boomers so ', 'why are millenials so ', 'why is gen x so ',]\n",
        "\n",
        "for keyword in keywords:\n",
        "    suggestions = search_suggestions(keyword)\n",
        "    print(suggestions)"
      ]
    },
    {
      "cell_type": "markdown",
      "source": [
        "# In-Class Exercise / Homework\n"
      ],
      "metadata": {
        "id": "AOrTRL6idnHa"
      }
    },
    {
      "cell_type": "markdown",
      "source": [
        "### 1. Find YouTube's undocumented API for search autocomplete. Write a function that allows you to collect autocomplete suggestions for any query."
      ],
      "metadata": {
        "id": "PVjGL7C4dsym"
      }
    },
    {
      "cell_type": "markdown",
      "source": [
        "### 2. What is the name (i.e. the `Path` column) of the API that powers infinite scroll on the web version of TikTok? You don't need to write a function."
      ],
      "metadata": {
        "id": "xxY4lXjLm12O"
      }
    },
    {
      "cell_type": "markdown",
      "source": [
        "### 3. What is the name (i.e. the `Path` column) of the API that returns comments for a specific video on TikTok? You don't need to write a function."
      ],
      "metadata": {
        "id": "pYwiV9tMppui"
      }
    }
  ],
  "metadata": {
    "kernelspec": {
      "display_name": "Python 3",
      "language": "python",
      "name": "python3"
    },
    "language_info": {
      "codemirror_mode": {
        "name": "ipython",
        "version": 3
      },
      "file_extension": ".py",
      "mimetype": "text/x-python",
      "name": "python",
      "nbconvert_exporter": "python",
      "pygments_lexer": "ipython3",
      "version": "3.7.3"
    },
    "vscode": {
      "interpreter": {
        "hash": "31f2aee4e71d21fbe5cf8b01ff0e069b9275f58929596ceb00d14d90e3e16cd6"
      }
    },
    "colab": {
      "provenance": []
    }
  },
  "nbformat": 4,
  "nbformat_minor": 0
}