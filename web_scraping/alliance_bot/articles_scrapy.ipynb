{
 "cells": [
  {
   "cell_type": "code",
   "execution_count": 1,
   "id": "cf7c1805-301a-4f73-a44d-def37a74053a",
   "metadata": {},
   "outputs": [],
   "source": [
    "import scrapy"
   ]
  },
  {
   "cell_type": "code",
   "execution_count": null,
   "id": "609bff7c-18c7-4077-8948-3f1eee30ed1c",
   "metadata": {},
   "outputs": [],
   "source": [
    "# adapted from \"Scrapy at a Glance\": https://docs.scrapy.org/en/latest/intro/overview.html \n",
    "\n",
    "class ArticleSpider(scrapy.Spider):\n",
    "    name = \"articles\"\n",
    "    start_urls = [\n",
    "        \"https://adflegal.org/articles/must-read/\",\n",
    "    ]\n",
    "\n",
    "    def parse(self, response):\n",
    "        for article in response.css(\"div.quote\"):\n",
    "            yield {\n",
    "                \"author\": quote.xpath(\"span/small/text()\").get(),\n",
    "                \"text\": quote.css(\"span.text::text\").get(),\n",
    "            }\n",
    "\n",
    "        next_page = response.css('li.next a::attr(\"href\")').get()\n",
    "        if next_page is not None:\n",
    "            yield response.follow(next_page, self.parse)"
   ]
  }
 ],
 "metadata": {
  "kernelspec": {
   "display_name": "Python 3 (ipykernel)",
   "language": "python",
   "name": "python3"
  },
  "language_info": {
   "codemirror_mode": {
    "name": "ipython",
    "version": 3
   },
   "file_extension": ".py",
   "mimetype": "text/x-python",
   "name": "python",
   "nbconvert_exporter": "python",
   "pygments_lexer": "ipython3",
   "version": "3.11.7"
  }
 },
 "nbformat": 4,
 "nbformat_minor": 5
}
