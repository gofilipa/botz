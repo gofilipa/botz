{
 "cells": [
  {
   "cell_type": "code",
   "execution_count": 1,
   "id": "144b3c5d-b2b7-42bf-9801-84bed8b963fc",
   "metadata": {},
   "outputs": [],
   "source": [
    "from bs4 import BeautifulSoup\n",
    "import requests\n",
    "import lxml"
   ]
  },
  {
   "cell_type": "code",
   "execution_count": 3,
   "id": "391447b9-b5fe-4865-9ab2-866bdac3b6f5",
   "metadata": {},
   "outputs": [],
   "source": [
    "r = requests.get('https://adflegal.org/articles/must-read/').content\n",
    "soup = BeautifulSoup(r, 'lxml')"
   ]
  },
  {
   "cell_type": "code",
   "execution_count": 4,
   "id": "d2d183c0-6a4d-4f29-9366-0c4546b998bd",
   "metadata": {},
   "outputs": [
    {
     "data": {
      "text/plain": [
       "<title>Must Read – Alliance Defending Freedom</title>"
      ]
     },
     "execution_count": 4,
     "metadata": {},
     "output_type": "execute_result"
    }
   ],
   "source": [
    "soup.title"
   ]
  },
  {
   "cell_type": "code",
   "execution_count": 5,
   "id": "07e23ef9-e939-40ff-aebc-d501e2ed01da",
   "metadata": {},
   "outputs": [
    {
     "data": {
      "text/plain": [
       "<div class=\"card-title fs-5\">‘Deceiving Women Is What Their Business Is All About’ – Former Planned Parenthood Director</div>"
      ]
     },
     "execution_count": 5,
     "metadata": {},
     "output_type": "execute_result"
    }
   ],
   "source": [
    "soup.find('div', class_ = 'card-title')"
   ]
  },
  {
   "cell_type": "code",
   "execution_count": 6,
   "id": "c22eada1-6673-474c-93af-aaf726186dc8",
   "metadata": {},
   "outputs": [
    {
     "name": "stdout",
     "output_type": "stream",
     "text": [
      "‘Deceiving Women Is What Their Business Is All About’ – Former Planned Parenthood Director\n",
      "Did The New York Times Just Make the Case for Defunding Planned Parenthood?\n",
      "California Tech Company Offers Nonprofit Discount, Denies it to Religious Group\n",
      "Delaware Ignores Supreme Court Precedent, Violates Pro-Life Speech\n",
      "Kansas City Counselors Forced to Choose Between Their Faith and Their Livelihood\n",
      "PepsiCo’s New Policy ‘Hits the Spot’ by Respecting Viewpoint Diversity\n",
      "SCOTUS to Weigh Parental Rights in LGBT Curriculum Case\n",
      "Activists Sue to Exclude Catholic Charter School from School-Choice Program\n",
      "Victory for Whistleblower Who Stood Up to Gender Ideology at Children’s Hospital\n",
      "Why ADF Is Cheering DEI’s Demise\n"
     ]
    }
   ],
   "source": [
    "for item in soup.find_all('div', class_ = 'card-title'):\n",
    "    print(item.text)"
   ]
  },
  {
   "cell_type": "code",
   "execution_count": 7,
   "id": "bf412ac1-64b5-4be5-9910-40d52aa6ca36",
   "metadata": {},
   "outputs": [
    {
     "name": "stdout",
     "output_type": "stream",
     "text": [
      "‘Deceiving Women Is What Their Business Is All About’ – Former Planned Parenthood DirectorAs Mayra Rodriguez learned firsthand, Planned Parenthood cares more about peddling abortion than it does about caring for women.\n",
      "Did The New York Times Just Make the Case for Defunding Planned Parenthood?Planned Parenthood rakes in hundreds of millions of dollars in fundraising, but hardly any of it goes to care for women.\n",
      "California Tech Company Offers Nonprofit Discount, Denies it to Religious GroupTech company Asana denied its nonprofit discount to a Christian ministry that teaches about God’s design for human sexuality.\n",
      "Delaware Ignores Supreme Court Precedent, Violates Pro-Life SpeechIn Delaware, a new law unconstitutionally targets pregnancy centers, violating their free speech and religious freedom.\n",
      "Kansas City Counselors Forced to Choose Between Their Faith and Their LivelihoodADF is challenging a pair of ordinances in Kansas City and Jackson County that violate the free speech of licensed counselors.\n",
      "PepsiCo’s New Policy ‘Hits the Spot’ by Respecting Viewpoint DiversityAfter ADF engaged on the issue, PepsiCo adopted an advertising policy that respects free speech.\n",
      "SCOTUS to Weigh Parental Rights in LGBT Curriculum CaseParents are challenging the Montgomery County School Board’s decision to teach radical gender ideology without parental notification or the ability to opt-out.\n",
      "Activists Sue to Exclude Catholic Charter School from School-Choice ProgramA nonprofit group sued Oklahoma’s Statewide Charter School Board after the board approved a Catholic virtual charter school.\n",
      "Victory for Whistleblower Who Stood Up to Gender Ideology at Children’s HospitalThe case against Dr. Eithan Haim, who exposed Texas Children’s Hospital for secretly using harmful ‘gender transition’ drugs on minors, has been dismissed.\n",
      "Why ADF Is Cheering DEI’s DemiseDiscrimination in another form, DEI’s day in the sun is coming to a swift end.\n"
     ]
    }
   ],
   "source": [
    "# to get both the article title and the summary/description of the article below it,\n",
    "# we need to zoom out and grab a parent element, the \"card body\" element. \n",
    "\n",
    "for item in soup.find_all('div', class_ = 'card-body'):\n",
    "    print(item.text)"
   ]
  },
  {
   "cell_type": "code",
   "execution_count": 10,
   "id": "9c520fef-c805-46f3-bd56-0d824643186c",
   "metadata": {},
   "outputs": [
    {
     "name": "stdout",
     "output_type": "stream",
     "text": [
      "‘Deceiving Women Is What Their Business Is All About’ – Former Planned Parenthood Director\n",
      "As Mayra Rodriguez learned firsthand, Planned Parenthood cares more about peddling abortion than it does about caring for women.\n",
      "Did The New York Times Just Make the Case for Defunding Planned Parenthood?\n",
      "Planned Parenthood rakes in hundreds of millions of dollars in fundraising, but hardly any of it goes to care for women.\n",
      "California Tech Company Offers Nonprofit Discount, Denies it to Religious Group\n",
      "Tech company Asana denied its nonprofit discount to a Christian ministry that teaches about God’s design for human sexuality.\n",
      "Delaware Ignores Supreme Court Precedent, Violates Pro-Life Speech\n",
      "In Delaware, a new law unconstitutionally targets pregnancy centers, violating their free speech and religious freedom.\n",
      "Kansas City Counselors Forced to Choose Between Their Faith and Their Livelihood\n",
      "ADF is challenging a pair of ordinances in Kansas City and Jackson County that violate the free speech of licensed counselors.\n",
      "PepsiCo’s New Policy ‘Hits the Spot’ by Respecting Viewpoint Diversity\n",
      "After ADF engaged on the issue, PepsiCo adopted an advertising policy that respects free speech.\n",
      "SCOTUS to Weigh Parental Rights in LGBT Curriculum Case\n",
      "Parents are challenging the Montgomery County School Board’s decision to teach radical gender ideology without parental notification or the ability to opt-out.\n",
      "Activists Sue to Exclude Catholic Charter School from School-Choice Program\n",
      "A nonprofit group sued Oklahoma’s Statewide Charter School Board after the board approved a Catholic virtual charter school.\n",
      "Victory for Whistleblower Who Stood Up to Gender Ideology at Children’s Hospital\n",
      "The case against Dr. Eithan Haim, who exposed Texas Children’s Hospital for secretly using harmful ‘gender transition’ drugs on minors, has been dismissed.\n",
      "Why ADF Is Cheering DEI’s Demise\n",
      "Discrimination in another form, DEI’s day in the sun is coming to a swift end.\n"
     ]
    }
   ],
   "source": [
    "# to differentiate between the two (article title and article description), we need to use \n",
    "# classes, which we can do with the find() function.\n",
    "\n",
    "for item in soup.find_all('div', class_ = 'card-body'):\n",
    "    print(item.find('div', class_ = 'card-title').text)\n",
    "    print(item.find('div', class_ = 'card-text').text)"
   ]
  },
  {
   "cell_type": "code",
   "execution_count": 11,
   "id": "60e40d2e-983a-4eec-8e88-46f420f30ebb",
   "metadata": {},
   "outputs": [],
   "source": [
    "# saving to a list\n",
    "\n",
    "titles = []\n",
    "descriptions = []\n",
    "\n",
    "for item in soup.find_all('div', class_ = 'card-body'):\n",
    "    titles.append(item.find('div', class_ = 'card-title').text)\n",
    "    descriptions.append(item.find('div', class_ = 'card-text').text)"
   ]
  },
  {
   "cell_type": "code",
   "execution_count": 12,
   "id": "384b63d0-cf27-412c-9a04-96b887f20f6c",
   "metadata": {},
   "outputs": [
    {
     "data": {
      "text/plain": [
       "['‘Deceiving Women Is What Their Business Is All About’ – Former Planned Parenthood Director',\n",
       " 'Did The New York Times Just Make the Case for Defunding Planned Parenthood?',\n",
       " 'California Tech Company Offers Nonprofit Discount, Denies it to Religious Group',\n",
       " 'Delaware Ignores Supreme Court Precedent, Violates Pro-Life Speech',\n",
       " 'Kansas City Counselors Forced to Choose Between Their Faith and Their Livelihood',\n",
       " 'PepsiCo’s New Policy ‘Hits the Spot’ by Respecting Viewpoint Diversity',\n",
       " 'SCOTUS to Weigh Parental Rights in LGBT Curriculum Case',\n",
       " 'Activists Sue to Exclude Catholic Charter School from School-Choice Program',\n",
       " 'Victory for Whistleblower Who Stood Up to Gender Ideology at Children’s Hospital',\n",
       " 'Why ADF Is Cheering DEI’s Demise']"
      ]
     },
     "execution_count": 12,
     "metadata": {},
     "output_type": "execute_result"
    }
   ],
   "source": [
    "titles"
   ]
  },
  {
   "cell_type": "code",
   "execution_count": 13,
   "id": "36d15782-db6e-46f6-82c4-7f111ae3aecb",
   "metadata": {},
   "outputs": [
    {
     "data": {
      "text/plain": [
       "['As Mayra Rodriguez learned firsthand, Planned Parenthood cares more about peddling abortion than it does about caring for women.',\n",
       " 'Planned Parenthood rakes in hundreds of millions of dollars in fundraising, but hardly any of it goes to care for women.',\n",
       " 'Tech company Asana denied its nonprofit discount to a Christian ministry that teaches about God’s design for human sexuality.',\n",
       " 'In Delaware, a new law unconstitutionally targets pregnancy centers, violating their free speech and religious freedom.',\n",
       " 'ADF is challenging a pair of ordinances in Kansas City and Jackson County that violate the free speech of licensed counselors.',\n",
       " 'After ADF engaged on the issue, PepsiCo adopted an advertising policy that respects free speech.',\n",
       " 'Parents are challenging the Montgomery County School Board’s decision to teach radical gender ideology without parental notification or the ability to opt-out.',\n",
       " 'A nonprofit group sued Oklahoma’s Statewide Charter School Board after the board approved a Catholic virtual charter school.',\n",
       " 'The case against Dr. Eithan Haim, who exposed Texas Children’s Hospital for secretly using harmful ‘gender transition’ drugs on minors, has been dismissed.',\n",
       " 'Discrimination in another form, DEI’s day in the sun is coming to a swift end.']"
      ]
     },
     "execution_count": 13,
     "metadata": {},
     "output_type": "execute_result"
    }
   ],
   "source": [
    "descriptions"
   ]
  },
  {
   "cell_type": "code",
   "execution_count": 14,
   "id": "d3728dd1-2666-493b-beee-68ef64edbf8b",
   "metadata": {},
   "outputs": [],
   "source": [
    "## now, go and find your own websites to scrape. You want to look for specific things:\n",
    "## - information that is paginated, like the results from a search, or articles from a blog.\n",
    "##   this will make it easier later on, when we start using automated crawlers.\n",
    "## - static elements. make sure you can, in fact, grab the information you want. if an \n",
    "##   element appears to be empty when you try to scrape it, likely that it is dynamic."
   ]
  }
 ],
 "metadata": {
  "kernelspec": {
   "display_name": "Python 3 (ipykernel)",
   "language": "python",
   "name": "python3"
  },
  "language_info": {
   "codemirror_mode": {
    "name": "ipython",
    "version": 3
   },
   "file_extension": ".py",
   "mimetype": "text/x-python",
   "name": "python",
   "nbconvert_exporter": "python",
   "pygments_lexer": "ipython3",
   "version": "3.11.7"
  }
 },
 "nbformat": 4,
 "nbformat_minor": 5
}
