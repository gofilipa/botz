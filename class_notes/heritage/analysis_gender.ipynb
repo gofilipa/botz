{
 "cells": [
  {
   "cell_type": "code",
   "execution_count": 6,
   "id": "6943943d-43a7-45ea-9ac9-85ca709d08ec",
   "metadata": {},
   "outputs": [],
   "source": [
    "import pandas as pd"
   ]
  },
  {
   "cell_type": "code",
   "execution_count": 32,
   "id": "7a1557e5-9805-42d3-9ff6-6d8e7b90d303",
   "metadata": {},
   "outputs": [],
   "source": [
    "df = pd.read_json('g.json')"
   ]
  },
  {
   "cell_type": "code",
   "execution_count": 33,
   "id": "c984831e-22bc-4baf-90ca-1eefef817ba4",
   "metadata": {},
   "outputs": [
    {
     "name": "stdout",
     "output_type": "stream",
     "text": [
      "<class 'pandas.core.frame.DataFrame'>\n",
      "RangeIndex: 305 entries, 0 to 304\n",
      "Data columns (total 3 columns):\n",
      " #   Column     Non-Null Count  Dtype \n",
      "---  ------     --------------  ----- \n",
      " 0   title      305 non-null    object\n",
      " 1   takeaways  305 non-null    object\n",
      " 2   text       305 non-null    object\n",
      "dtypes: object(3)\n",
      "memory usage: 7.3+ KB\n"
     ]
    }
   ],
   "source": [
    "df.info()"
   ]
  },
  {
   "cell_type": "code",
   "execution_count": 38,
   "id": "bde66f52-34cc-461a-a92a-5a577843d189",
   "metadata": {},
   "outputs": [
    {
     "data": {
      "text/html": [
       "<div>\n",
       "<style scoped>\n",
       "    .dataframe tbody tr th:only-of-type {\n",
       "        vertical-align: middle;\n",
       "    }\n",
       "\n",
       "    .dataframe tbody tr th {\n",
       "        vertical-align: top;\n",
       "    }\n",
       "\n",
       "    .dataframe thead th {\n",
       "        text-align: right;\n",
       "    }\n",
       "</style>\n",
       "<table border=\"1\" class=\"dataframe\">\n",
       "  <thead>\n",
       "    <tr style=\"text-align: right;\">\n",
       "      <th></th>\n",
       "      <th>title</th>\n",
       "      <th>takeaways</th>\n",
       "      <th>text</th>\n",
       "    </tr>\n",
       "  </thead>\n",
       "  <tbody>\n",
       "    <tr>\n",
       "      <th>0</th>\n",
       "      <td>Follow the Law</td>\n",
       "      <td>[Hurson’s decision halts the directives of Pre...</td>\n",
       "      <td>It’s difficult to envision a more dizzying exe...</td>\n",
       "    </tr>\n",
       "    <tr>\n",
       "      <th>1</th>\n",
       "      <td>Wisconsin Public Schools’ Gender Policies Shut...</td>\n",
       "      <td>[Schools are generally in charge of matters su...</td>\n",
       "      <td>The Supreme Court has said that parents’ right...</td>\n",
       "    </tr>\n",
       "    <tr>\n",
       "      <th>2</th>\n",
       "      <td>Tyrants of the Imperious Judiciary: Federal Ju...</td>\n",
       "      <td>[A federal district court judge just ordered I...</td>\n",
       "      <td>Every time a radical, out-of-control federal j...</td>\n",
       "    </tr>\n",
       "    <tr>\n",
       "      <th>3</th>\n",
       "      <td>United States v. Skrmetti: Oral Arguments Indi...</td>\n",
       "      <td>[Tennessee is one of 26 states that have enact...</td>\n",
       "      <td>On Wednesday, December 3, the U.S. Supreme Cou...</td>\n",
       "    </tr>\n",
       "    <tr>\n",
       "      <th>4</th>\n",
       "      <td>Hans A. von Spakovsky</td>\n",
       "      <td>[]</td>\n",
       "      <td>Hans von Spakovsky is an authority on a wide r...</td>\n",
       "    </tr>\n",
       "    <tr>\n",
       "      <th>...</th>\n",
       "      <td>...</td>\n",
       "      <td>...</td>\n",
       "      <td>...</td>\n",
       "    </tr>\n",
       "    <tr>\n",
       "      <th>300</th>\n",
       "      <td>The Problems With CNN Poll Showing Opposition ...</td>\n",
       "      <td>[]</td>\n",
       "      <td>Between North Carolina’s bathroom law and Pres...</td>\n",
       "    </tr>\n",
       "    <tr>\n",
       "      <th>301</th>\n",
       "      <td>Edwin J. Feulner</td>\n",
       "      <td>[]</td>\n",
       "      <td>Edwin J. Feulner’s leadership as president of ...</td>\n",
       "    </tr>\n",
       "    <tr>\n",
       "      <th>302</th>\n",
       "      <td>Genevieve Wood</td>\n",
       "      <td>[]</td>\n",
       "      <td>Genevieve Wood is a leading voice for The Heri...</td>\n",
       "    </tr>\n",
       "    <tr>\n",
       "      <th>303</th>\n",
       "      <td>Elizabeth Fender</td>\n",
       "      <td>[]</td>\n",
       "      <td>Elizabeth Fender is the Senior Brand Advisor f...</td>\n",
       "    </tr>\n",
       "    <tr>\n",
       "      <th>304</th>\n",
       "      <td>Sex In The Military: What Did They Expect?</td>\n",
       "      <td>[]</td>\n",
       "      <td>If you think about all the recent stories conc...</td>\n",
       "    </tr>\n",
       "  </tbody>\n",
       "</table>\n",
       "<p>305 rows × 3 columns</p>\n",
       "</div>"
      ],
      "text/plain": [
       "                                                 title  \\\n",
       "0                                       Follow the Law   \n",
       "1    Wisconsin Public Schools’ Gender Policies Shut...   \n",
       "2    Tyrants of the Imperious Judiciary: Federal Ju...   \n",
       "3    United States v. Skrmetti: Oral Arguments Indi...   \n",
       "4                                Hans A. von Spakovsky   \n",
       "..                                                 ...   \n",
       "300  The Problems With CNN Poll Showing Opposition ...   \n",
       "301                                   Edwin J. Feulner   \n",
       "302                                     Genevieve Wood   \n",
       "303                                   Elizabeth Fender   \n",
       "304         Sex In The Military: What Did They Expect?   \n",
       "\n",
       "                                             takeaways  \\\n",
       "0    [Hurson’s decision halts the directives of Pre...   \n",
       "1    [Schools are generally in charge of matters su...   \n",
       "2    [A federal district court judge just ordered I...   \n",
       "3    [Tennessee is one of 26 states that have enact...   \n",
       "4                                                   []   \n",
       "..                                                 ...   \n",
       "300                                                 []   \n",
       "301                                                 []   \n",
       "302                                                 []   \n",
       "303                                                 []   \n",
       "304                                                 []   \n",
       "\n",
       "                                                  text  \n",
       "0    It’s difficult to envision a more dizzying exe...  \n",
       "1    The Supreme Court has said that parents’ right...  \n",
       "2    Every time a radical, out-of-control federal j...  \n",
       "3    On Wednesday, December 3, the U.S. Supreme Cou...  \n",
       "4    Hans von Spakovsky is an authority on a wide r...  \n",
       "..                                                 ...  \n",
       "300  Between North Carolina’s bathroom law and Pres...  \n",
       "301  Edwin J. Feulner’s leadership as president of ...  \n",
       "302  Genevieve Wood is a leading voice for The Heri...  \n",
       "303  Elizabeth Fender is the Senior Brand Advisor f...  \n",
       "304  If you think about all the recent stories conc...  \n",
       "\n",
       "[305 rows x 3 columns]"
      ]
     },
     "execution_count": 38,
     "metadata": {},
     "output_type": "execute_result"
    }
   ],
   "source": [
    "df"
   ]
  },
  {
   "cell_type": "code",
   "execution_count": 34,
   "id": "f211507a-9ab0-4626-86d2-a22ba2bd3958",
   "metadata": {},
   "outputs": [
    {
     "data": {
      "text/plain": [
       "['It’s difficult to envision a more dizzying exercise in judicial gymnastics than the temporary ',\n",
       " ' and accompanying ',\n",
       " ' from U.S. District Judge Brendan A. Hurson in ',\n",
       " '. Hurson’s decision halts the directives of President Donald Trump’s Jan. 28 executive order “',\n",
       " '.”',\n",
       " 'While Hurson seems content indulging overwrought ',\n",
       " ' the president “den[ies] that this [transgender] population exists, or even has the right to exist,” he patently ignores a correct application of guiding law that gives the president the authority to halt further governmental federal funding of “gender-affirming care” for minors.',\n",
       " 'The Department of Health and Human Services under President Joe Biden took the position that funding appropriated by Congress through the Medicaid, Medicare and Affordable Care Act appropriations bill could be used to support such care.',\n",
       " 'But\\xa0',\n",
       " '—unless otherwise specified—create substantive law. And in this case, the bills did not create a requirement that funds be used in this way. Just as the Biden administration said that, for example, a contract with a state Medicaid recipient could provide “gender-affirming care,” the Trump administration is well within its right to say “stop.”',\n",
       " 'The plaintiffs in ',\n",
       " 'have not alleged that Trump’s executive order violates the law—because there is no law for him to violate. They simply want the government to pay for transgender surgeries and treatments for minors from which many developed nations have retreated. Hospitals, clinics and medical providers are free to offer these services all they want. But the government is under no obligation to pay for them.',\n",
       " 'Thankfully, Hurson’s order is not a determination on the merits of the plaintiffs’ case, but merely a procedural determination. He still has time to get it right.']"
      ]
     },
     "execution_count": 34,
     "metadata": {},
     "output_type": "execute_result"
    }
   ],
   "source": [
    "df['text'][0]"
   ]
  },
  {
   "cell_type": "code",
   "execution_count": 35,
   "id": "6cce2f9a-0b4b-4cfd-addd-107304fc7cfb",
   "metadata": {},
   "outputs": [],
   "source": [
    "df[\"text\"]= df[\"text\"].str.join(\"\")"
   ]
  },
  {
   "cell_type": "code",
   "execution_count": 37,
   "id": "e7aa3d5f-f4da-444e-8f61-9068617506b5",
   "metadata": {},
   "outputs": [
    {
     "data": {
      "text/plain": [
       "'It’s difficult to envision a more dizzying exercise in judicial gymnastics than the temporary  and accompanying  from U.S. District Judge Brendan A. Hurson in . Hurson’s decision halts the directives of President Donald Trump’s Jan. 28 executive order “.”While Hurson seems content indulging overwrought  the president “den[ies] that this [transgender] population exists, or even has the right to exist,” he patently ignores a correct application of guiding law that gives the president the authority to halt further governmental federal funding of “gender-affirming care” for minors.The Department of Health and Human Services under President Joe Biden took the position that funding appropriated by Congress through the Medicaid, Medicare and Affordable Care Act appropriations bill could be used to support such care.But\\xa0—unless otherwise specified—create substantive law. And in this case, the bills did not create a requirement that funds be used in this way. Just as the Biden administration said that, for example, a contract with a state Medicaid recipient could provide “gender-affirming care,” the Trump administration is well within its right to say “stop.”The plaintiffs in have not alleged that Trump’s executive order violates the law—because there is no law for him to violate. They simply want the government to pay for transgender surgeries and treatments for minors from which many developed nations have retreated. Hospitals, clinics and medical providers are free to offer these services all they want. But the government is under no obligation to pay for them.Thankfully, Hurson’s order is not a determination on the merits of the plaintiffs’ case, but merely a procedural determination. He still has time to get it right.'"
      ]
     },
     "execution_count": 37,
     "metadata": {},
     "output_type": "execute_result"
    }
   ],
   "source": [
    "df['text'][0]"
   ]
  },
  {
   "cell_type": "code",
   "execution_count": null,
   "id": "1b43b99e-f9a7-43ec-b189-c57126456fd4",
   "metadata": {},
   "outputs": [],
   "source": []
  }
 ],
 "metadata": {
  "kernelspec": {
   "display_name": "Python 3 (ipykernel)",
   "language": "python",
   "name": "python3"
  },
  "language_info": {
   "codemirror_mode": {
    "name": "ipython",
    "version": 3
   },
   "file_extension": ".py",
   "mimetype": "text/x-python",
   "name": "python",
   "nbconvert_exporter": "python",
   "pygments_lexer": "ipython3",
   "version": "3.11.11"
  }
 },
 "nbformat": 4,
 "nbformat_minor": 5
}
