import requests
import lxml
from bs4 import BeautifulSoup


url = 'https://www.nytimes.com/'


r = requests.get(url)


source = r.content


soup = BeautifulSoup(source, 'lxml')


soup.title


soup.title.text


# how to get just the text of one of the headlines?

soup.p


soup.find('p', class_= 'css-1gg6cw2').text


# use find_all to grab as many headlines as you can

soup.find_all('p', class_ = 'css-91bpc3').text


headings = soup.find_all('p', class_ = 'css-91bpc3')


type(headings)


headings_text = []
for i in headings:
    headings_text.append(i.text)


headings_text


# How would I scrape the search results of the NYT tech page? (searching
# for ICE in the search bar)?
# and, how would I scrape the text of the individual articles listed? 


url = 'https://www.nytimes.com/search?query=ice'


r = requests.get(url)
source = r.content
soup = BeautifulSoup(source, 'lxml')


results = soup.find_all('h4', class_ = 'css-nsjm9t')
results_text = []

for i in results:
    results_text.append(i.text)


results_text



