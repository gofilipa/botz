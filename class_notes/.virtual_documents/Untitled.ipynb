import requests


cookies = {
    '_gcl_au': '1.1.446932764.1749141931',
    '_pxvid': '7e3e8161-422c-11f0-a651-b59a465fa18c',
    'zjs_anonymous_id': '%222fa18a64-3f15-45e7-a9c2-430cff475eac%22',
    'zjs_user_id': 'null',
    'zjs_user_id_type': '%22encoded_zuid%22',
    'zg_anonymous_id': '%2266c5f0f5-7e51-48e8-a41b-4fee75195c85%22',
    '_px3': '13599405f5a36b4da8b8061557d7752403ad32d6f204a174b8850ba987276e22:Hkhh+jCIHdmDQ2H/C76TdHQ3/JlKUUK07jTfgRPHEMZhD2yksqyjboL9R0Y0Z6p44Ngg0aTUsjGQt4CUS2uz7w==:1000:o2R7h2bOExOQi6bLKD+kPZr+ZewyKZZQyEzBBAJMSaWYHQdx37wHVuoLTYb4X61/Qq6ccxnL9LKEisMNI5Odh7/UzstrrcFRmz1l2pZ9qsxOhA2RarCzUWyvvl8EFM+cSz5q1qr2MqgAvyYEKMF+FS7Stk5xNmNH8ibOfTsnfHo3lbwmYWZCkUr2F7eY5tDw/hR89/4Uwtt07Wr96ACVRYRp1inSpPDDqrV6qztXN7M=',
    '_pin_unauth': 'dWlkPU16WTROall4T0RjdFltVTVOUzAwTTJKa0xUZzRZVEV0Tmpoa016RmlOREJtTnpjdw',
    '_ses': 'Z09HOHFlclVCVWpRaC8wZnJ5aHhFWHM2cnFEdE81aUxUTHdTenZVd0RvaEM4OTYvcWdWTHAwNDRQN0tUbHBWamdWTElsYnBpaFoycmNjR1ZzWWF2cDI4ak1sUmh4RmFsNU41cGQ3SjFJWU0zQytrMFRQcUgvbXdWaVc3L3lWQ3hMZ0RQajRxYjlyU25majdvV1ZvT0tyWFBkdjZlMkxhL2R3SCtCdElBWThvPS0tVFFrNW5NR3pUdTh0WU5scUNReXoyZz09--3b6fc0a8eab279aded5431debf9209c20b92e9a5',
    'pxcts': '3c08fbd1-4543-11f0-a60f-e28daa0ee3c0',
    'srp': 'v2',
}

headers = {
    'User-Agent': 'Mozilla/5.0 (Macintosh; Intel Mac OS X 10.15; rv:139.0) Gecko/20100101 Firefox/139.0',
    'Accept': 'application/json',
    'Accept-Language': 'en-US,en;q=0.5',
    # 'Accept-Encoding': 'gzip, deflate, br, zstd',
    'Referer': 'https://streeteasy.com/',
    'app-version': '1.0.0',
    'os': 'web',
    'Content-Type': 'application/json',
    'X-Forwarded-Proto': 'https',
    'apollographql-client-name': 'srp-frontend-service',
    'apollographql-client-version': 'version  c782ff4b61fecbca6efce495cc936e8b5a549a62',
    'Origin': 'https://streeteasy.com',
    'Connection': 'keep-alive',
    # 'Cookie': '_gcl_au=1.1.446932764.1749141931; _pxvid=7e3e8161-422c-11f0-a651-b59a465fa18c; zjs_anonymous_id=%222fa18a64-3f15-45e7-a9c2-430cff475eac%22; zjs_user_id=null; zjs_user_id_type=%22encoded_zuid%22; zg_anonymous_id=%2266c5f0f5-7e51-48e8-a41b-4fee75195c85%22; _px3=13599405f5a36b4da8b8061557d7752403ad32d6f204a174b8850ba987276e22:Hkhh+jCIHdmDQ2H/C76TdHQ3/JlKUUK07jTfgRPHEMZhD2yksqyjboL9R0Y0Z6p44Ngg0aTUsjGQt4CUS2uz7w==:1000:o2R7h2bOExOQi6bLKD+kPZr+ZewyKZZQyEzBBAJMSaWYHQdx37wHVuoLTYb4X61/Qq6ccxnL9LKEisMNI5Odh7/UzstrrcFRmz1l2pZ9qsxOhA2RarCzUWyvvl8EFM+cSz5q1qr2MqgAvyYEKMF+FS7Stk5xNmNH8ibOfTsnfHo3lbwmYWZCkUr2F7eY5tDw/hR89/4Uwtt07Wr96ACVRYRp1inSpPDDqrV6qztXN7M=; _pin_unauth=dWlkPU16WTROall4T0RjdFltVTVOUzAwTTJKa0xUZzRZVEV0Tmpoa016RmlOREJtTnpjdw; _ses=Z09HOHFlclVCVWpRaC8wZnJ5aHhFWHM2cnFEdE81aUxUTHdTenZVd0RvaEM4OTYvcWdWTHAwNDRQN0tUbHBWamdWTElsYnBpaFoycmNjR1ZzWWF2cDI4ak1sUmh4RmFsNU41cGQ3SjFJWU0zQytrMFRQcUgvbXdWaVc3L3lWQ3hMZ0RQajRxYjlyU25majdvV1ZvT0tyWFBkdjZlMkxhL2R3SCtCdElBWThvPS0tVFFrNW5NR3pUdTh0WU5scUNReXoyZz09--3b6fc0a8eab279aded5431debf9209c20b92e9a5; pxcts=3c08fbd1-4543-11f0-a60f-e28daa0ee3c0; srp=v2',
    'Sec-Fetch-Dest': 'empty',
    'Sec-Fetch-Mode': 'cors',
    'Sec-Fetch-Site': 'same-site',
    'Sec-GPC': '1',
    'Priority': 'u=4',
    # Requests doesn't support trailers
    # 'TE': 'trailers',
}

json_data = {
    'query': '\n  query GetListingRental($input: SearchRentalsInput!) {\n    searchRentals(input: $input) {\n      search {\n        criteria\n      }\n      totalCount\n      edges {\n        ... on OrganicRentalEdge {\n          node {\n            id\n            areaName\n            bedroomCount\n            buildingType\n            fullBathroomCount\n            geoPoint {\n              latitude\n              longitude\n            }\n            halfBathroomCount\n            noFee\n            leadMedia {\n              photo {\n                  key\n              }\n            }\n            price\n            relloExpress {\n              ctaEnabled\n              link\n              rentalId\n            }\n            sourceGroupLabel\n            status\n            street\n            unit\n            urlPath\n          }\n        }\n      }\n    }\n  }\n',
    'variables': {
        'input': {
            'filters': {
                'rentalStatus': 'ACTIVE',
                'areas': [
                    104,
                ],
                'price': {
                    'lowerBound': None,
                    'upperBound': 4000,
                },
            },
            'page': 1,
            'perPage': 500,
            'sorting': {
                'attribute': 'RECOMMENDED',
                'direction': 'DESCENDING',
            },
            'userSearchToken': 'a5195cc3-f551-4fe3-811e-c8de43126452',
            'adStrategy': 'NONE',
        },
    },
}

response = requests.post('https://api-v6.streeteasy.com/', cookies=cookies, headers=headers, json=json_data)


response


# turning our response into a JSON type of object

parsed = response.json()


# access our data by keys

parsed.keys()


parsed['data'].keys()


# syntax for accessing data within a dictionary / JSON type object:
# use brackets [] to get data

parsed['data']['searchRentals'].keys()


# use list indexing [0] to get items from a list within the JSON

parsed['data']['searchRentals']['edges'][0]


# saving the search results to a new label for convenience

results = parsed['data']['searchRentals']['edges']


results[0]['node'].keys()


for i in results:
    print(i['node']['price'])





# port the request into a function
# takes "price" as a parameter

def search_apartments(price):
    cookies = {
        '_gcl_au': '1.1.446932764.1749141931',
        '_pxvid': '7e3e8161-422c-11f0-a651-b59a465fa18c',
        'zjs_anonymous_id': '%222fa18a64-3f15-45e7-a9c2-430cff475eac%22',
        'zjs_user_id': 'null',
        'zjs_user_id_type': '%22encoded_zuid%22',
        'zg_anonymous_id': '%2266c5f0f5-7e51-48e8-a41b-4fee75195c85%22',
        '_px3': '13599405f5a36b4da8b8061557d7752403ad32d6f204a174b8850ba987276e22:Hkhh+jCIHdmDQ2H/C76TdHQ3/JlKUUK07jTfgRPHEMZhD2yksqyjboL9R0Y0Z6p44Ngg0aTUsjGQt4CUS2uz7w==:1000:o2R7h2bOExOQi6bLKD+kPZr+ZewyKZZQyEzBBAJMSaWYHQdx37wHVuoLTYb4X61/Qq6ccxnL9LKEisMNI5Odh7/UzstrrcFRmz1l2pZ9qsxOhA2RarCzUWyvvl8EFM+cSz5q1qr2MqgAvyYEKMF+FS7Stk5xNmNH8ibOfTsnfHo3lbwmYWZCkUr2F7eY5tDw/hR89/4Uwtt07Wr96ACVRYRp1inSpPDDqrV6qztXN7M=',
        '_pin_unauth': 'dWlkPU16WTROall4T0RjdFltVTVOUzAwTTJKa0xUZzRZVEV0Tmpoa016RmlOREJtTnpjdw',
        '_ses': 'Z09HOHFlclVCVWpRaC8wZnJ5aHhFWHM2cnFEdE81aUxUTHdTenZVd0RvaEM4OTYvcWdWTHAwNDRQN0tUbHBWamdWTElsYnBpaFoycmNjR1ZzWWF2cDI4ak1sUmh4RmFsNU41cGQ3SjFJWU0zQytrMFRQcUgvbXdWaVc3L3lWQ3hMZ0RQajRxYjlyU25majdvV1ZvT0tyWFBkdjZlMkxhL2R3SCtCdElBWThvPS0tVFFrNW5NR3pUdTh0WU5scUNReXoyZz09--3b6fc0a8eab279aded5431debf9209c20b92e9a5',
        'pxcts': '3c08fbd1-4543-11f0-a60f-e28daa0ee3c0',
        'srp': 'v2',
    }

    headers = {
        'User-Agent': 'Mozilla/5.0 (Macintosh; Intel Mac OS X 10.15; rv:139.0) Gecko/20100101 Firefox/139.0',
        'Accept': 'application/json',
        'Accept-Language': 'en-US,en;q=0.5',
        # 'Accept-Encoding': 'gzip, deflate, br, zstd',
        'Referer': 'https://streeteasy.com/',
        'app-version': '1.0.0',
        'os': 'web',
        'Content-Type': 'application/json',
        'X-Forwarded-Proto': 'https',
        'apollographql-client-name': 'srp-frontend-service',
        'apollographql-client-version': 'version  c782ff4b61fecbca6efce495cc936e8b5a549a62',
        'Origin': 'https://streeteasy.com',
        'Connection': 'keep-alive',
        # 'Cookie': '_gcl_au=1.1.446932764.1749141931; _pxvid=7e3e8161-422c-11f0-a651-b59a465fa18c; zjs_anonymous_id=%222fa18a64-3f15-45e7-a9c2-430cff475eac%22; zjs_user_id=null; zjs_user_id_type=%22encoded_zuid%22; zg_anonymous_id=%2266c5f0f5-7e51-48e8-a41b-4fee75195c85%22; _px3=13599405f5a36b4da8b8061557d7752403ad32d6f204a174b8850ba987276e22:Hkhh+jCIHdmDQ2H/C76TdHQ3/JlKUUK07jTfgRPHEMZhD2yksqyjboL9R0Y0Z6p44Ngg0aTUsjGQt4CUS2uz7w==:1000:o2R7h2bOExOQi6bLKD+kPZr+ZewyKZZQyEzBBAJMSaWYHQdx37wHVuoLTYb4X61/Qq6ccxnL9LKEisMNI5Odh7/UzstrrcFRmz1l2pZ9qsxOhA2RarCzUWyvvl8EFM+cSz5q1qr2MqgAvyYEKMF+FS7Stk5xNmNH8ibOfTsnfHo3lbwmYWZCkUr2F7eY5tDw/hR89/4Uwtt07Wr96ACVRYRp1inSpPDDqrV6qztXN7M=; _pin_unauth=dWlkPU16WTROall4T0RjdFltVTVOUzAwTTJKa0xUZzRZVEV0Tmpoa016RmlOREJtTnpjdw; _ses=Z09HOHFlclVCVWpRaC8wZnJ5aHhFWHM2cnFEdE81aUxUTHdTenZVd0RvaEM4OTYvcWdWTHAwNDRQN0tUbHBWamdWTElsYnBpaFoycmNjR1ZzWWF2cDI4ak1sUmh4RmFsNU41cGQ3SjFJWU0zQytrMFRQcUgvbXdWaVc3L3lWQ3hMZ0RQajRxYjlyU25majdvV1ZvT0tyWFBkdjZlMkxhL2R3SCtCdElBWThvPS0tVFFrNW5NR3pUdTh0WU5scUNReXoyZz09--3b6fc0a8eab279aded5431debf9209c20b92e9a5; pxcts=3c08fbd1-4543-11f0-a60f-e28daa0ee3c0; srp=v2',
        'Sec-Fetch-Dest': 'empty',
        'Sec-Fetch-Mode': 'cors',
        'Sec-Fetch-Site': 'same-site',
        'Sec-GPC': '1',
        'Priority': 'u=4',
        # Requests doesn't support trailers
        # 'TE': 'trailers',
    }

    json_data = {
        'query': '\n  query GetListingRental($input: SearchRentalsInput!) {\n    searchRentals(input: $input) {\n      search {\n        criteria\n      }\n      totalCount\n      edges {\n        ... on OrganicRentalEdge {\n          node {\n            id\n            areaName\n            bedroomCount\n            buildingType\n            fullBathroomCount\n            geoPoint {\n              latitude\n              longitude\n            }\n            halfBathroomCount\n            noFee\n            leadMedia {\n              photo {\n                  key\n              }\n            }\n            price\n            relloExpress {\n              ctaEnabled\n              link\n              rentalId\n            }\n            sourceGroupLabel\n            status\n            street\n            unit\n            urlPath\n          }\n        }\n      }\n    }\n  }\n',
        'variables': {
            'input': {
                'filters': {
                    'rentalStatus': 'ACTIVE',
                    'areas': [
                        104,
                    ],
                    'price': {
                        'lowerBound': None,
                        'upperBound': price,
                    },
                },
                'page': 1,
                'perPage': 500,
                'sorting': {
                    'attribute': 'RECOMMENDED',
                    'direction': 'DESCENDING',
                },
                'userSearchToken': 'a5195cc3-f551-4fe3-811e-c8de43126452',
                'adStrategy': 'NONE',
            },
        },
    }

    response = requests.post('https://api-v6.streeteasy.com/', cookies=cookies, headers=headers, json=json_data)

    return response.json()


# makes request for apartments less than 10K

r = search_apartments(10000)


# we can access the data using dictionary syntax

r['data']['searchRentals']['edges'][0]
