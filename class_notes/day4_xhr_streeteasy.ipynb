{
 "cells": [
  {
   "cell_type": "code",
   "execution_count": 1,
   "id": "d5925387-916e-49a6-8d37-9c5231494d58",
   "metadata": {},
   "outputs": [],
   "source": [
    "import requests"
   ]
  },
  {
   "cell_type": "code",
   "execution_count": 49,
   "id": "9f15acae-0259-4339-810e-262f8fad183a",
   "metadata": {},
   "outputs": [],
   "source": [
    "cookies = {\n",
    "    '_gcl_au': '1.1.446932764.1749141931',\n",
    "    '_pxvid': '7e3e8161-422c-11f0-a651-b59a465fa18c',\n",
    "    'zjs_anonymous_id': '%222fa18a64-3f15-45e7-a9c2-430cff475eac%22',\n",
    "    'zjs_user_id': 'null',\n",
    "    'zjs_user_id_type': '%22encoded_zuid%22',\n",
    "    'zg_anonymous_id': '%2266c5f0f5-7e51-48e8-a41b-4fee75195c85%22',\n",
    "    '_px3': '13599405f5a36b4da8b8061557d7752403ad32d6f204a174b8850ba987276e22:Hkhh+jCIHdmDQ2H/C76TdHQ3/JlKUUK07jTfgRPHEMZhD2yksqyjboL9R0Y0Z6p44Ngg0aTUsjGQt4CUS2uz7w==:1000:o2R7h2bOExOQi6bLKD+kPZr+ZewyKZZQyEzBBAJMSaWYHQdx37wHVuoLTYb4X61/Qq6ccxnL9LKEisMNI5Odh7/UzstrrcFRmz1l2pZ9qsxOhA2RarCzUWyvvl8EFM+cSz5q1qr2MqgAvyYEKMF+FS7Stk5xNmNH8ibOfTsnfHo3lbwmYWZCkUr2F7eY5tDw/hR89/4Uwtt07Wr96ACVRYRp1inSpPDDqrV6qztXN7M=',\n",
    "    '_pin_unauth': 'dWlkPU16WTROall4T0RjdFltVTVOUzAwTTJKa0xUZzRZVEV0Tmpoa016RmlOREJtTnpjdw',\n",
    "    '_ses': 'Z09HOHFlclVCVWpRaC8wZnJ5aHhFWHM2cnFEdE81aUxUTHdTenZVd0RvaEM4OTYvcWdWTHAwNDRQN0tUbHBWamdWTElsYnBpaFoycmNjR1ZzWWF2cDI4ak1sUmh4RmFsNU41cGQ3SjFJWU0zQytrMFRQcUgvbXdWaVc3L3lWQ3hMZ0RQajRxYjlyU25majdvV1ZvT0tyWFBkdjZlMkxhL2R3SCtCdElBWThvPS0tVFFrNW5NR3pUdTh0WU5scUNReXoyZz09--3b6fc0a8eab279aded5431debf9209c20b92e9a5',\n",
    "    'pxcts': '3c08fbd1-4543-11f0-a60f-e28daa0ee3c0',\n",
    "    'srp': 'v2',\n",
    "}\n",
    "\n",
    "headers = {\n",
    "    'User-Agent': 'Mozilla/5.0 (Macintosh; Intel Mac OS X 10.15; rv:139.0) Gecko/20100101 Firefox/139.0',\n",
    "    'Accept': 'application/json',\n",
    "    'Accept-Language': 'en-US,en;q=0.5',\n",
    "    # 'Accept-Encoding': 'gzip, deflate, br, zstd',\n",
    "    'Referer': 'https://streeteasy.com/',\n",
    "    'app-version': '1.0.0',\n",
    "    'os': 'web',\n",
    "    'Content-Type': 'application/json',\n",
    "    'X-Forwarded-Proto': 'https',\n",
    "    'apollographql-client-name': 'srp-frontend-service',\n",
    "    'apollographql-client-version': 'version  c782ff4b61fecbca6efce495cc936e8b5a549a62',\n",
    "    'Origin': 'https://streeteasy.com',\n",
    "    'Connection': 'keep-alive',\n",
    "    # 'Cookie': '_gcl_au=1.1.446932764.1749141931; _pxvid=7e3e8161-422c-11f0-a651-b59a465fa18c; zjs_anonymous_id=%222fa18a64-3f15-45e7-a9c2-430cff475eac%22; zjs_user_id=null; zjs_user_id_type=%22encoded_zuid%22; zg_anonymous_id=%2266c5f0f5-7e51-48e8-a41b-4fee75195c85%22; _px3=13599405f5a36b4da8b8061557d7752403ad32d6f204a174b8850ba987276e22:Hkhh+jCIHdmDQ2H/C76TdHQ3/JlKUUK07jTfgRPHEMZhD2yksqyjboL9R0Y0Z6p44Ngg0aTUsjGQt4CUS2uz7w==:1000:o2R7h2bOExOQi6bLKD+kPZr+ZewyKZZQyEzBBAJMSaWYHQdx37wHVuoLTYb4X61/Qq6ccxnL9LKEisMNI5Odh7/UzstrrcFRmz1l2pZ9qsxOhA2RarCzUWyvvl8EFM+cSz5q1qr2MqgAvyYEKMF+FS7Stk5xNmNH8ibOfTsnfHo3lbwmYWZCkUr2F7eY5tDw/hR89/4Uwtt07Wr96ACVRYRp1inSpPDDqrV6qztXN7M=; _pin_unauth=dWlkPU16WTROall4T0RjdFltVTVOUzAwTTJKa0xUZzRZVEV0Tmpoa016RmlOREJtTnpjdw; _ses=Z09HOHFlclVCVWpRaC8wZnJ5aHhFWHM2cnFEdE81aUxUTHdTenZVd0RvaEM4OTYvcWdWTHAwNDRQN0tUbHBWamdWTElsYnBpaFoycmNjR1ZzWWF2cDI4ak1sUmh4RmFsNU41cGQ3SjFJWU0zQytrMFRQcUgvbXdWaVc3L3lWQ3hMZ0RQajRxYjlyU25majdvV1ZvT0tyWFBkdjZlMkxhL2R3SCtCdElBWThvPS0tVFFrNW5NR3pUdTh0WU5scUNReXoyZz09--3b6fc0a8eab279aded5431debf9209c20b92e9a5; pxcts=3c08fbd1-4543-11f0-a60f-e28daa0ee3c0; srp=v2',\n",
    "    'Sec-Fetch-Dest': 'empty',\n",
    "    'Sec-Fetch-Mode': 'cors',\n",
    "    'Sec-Fetch-Site': 'same-site',\n",
    "    'Sec-GPC': '1',\n",
    "    'Priority': 'u=4',\n",
    "    # Requests doesn't support trailers\n",
    "    # 'TE': 'trailers',\n",
    "}\n",
    "\n",
    "json_data = {\n",
    "    'query': '\\n  query GetListingRental($input: SearchRentalsInput!) {\\n    searchRentals(input: $input) {\\n      search {\\n        criteria\\n      }\\n      totalCount\\n      edges {\\n        ... on OrganicRentalEdge {\\n          node {\\n            id\\n            areaName\\n            bedroomCount\\n            buildingType\\n            fullBathroomCount\\n            geoPoint {\\n              latitude\\n              longitude\\n            }\\n            halfBathroomCount\\n            noFee\\n            leadMedia {\\n              photo {\\n                  key\\n              }\\n            }\\n            price\\n            relloExpress {\\n              ctaEnabled\\n              link\\n              rentalId\\n            }\\n            sourceGroupLabel\\n            status\\n            street\\n            unit\\n            urlPath\\n          }\\n        }\\n      }\\n    }\\n  }\\n',\n",
    "    'variables': {\n",
    "        'input': {\n",
    "            'filters': {\n",
    "                'rentalStatus': 'ACTIVE',\n",
    "                'areas': [\n",
    "                    104,\n",
    "                ],\n",
    "                'price': {\n",
    "                    'lowerBound': None,\n",
    "                    'upperBound': 4000,\n",
    "                },\n",
    "            },\n",
    "            'page': 1,\n",
    "            'perPage': 500,\n",
    "            'sorting': {\n",
    "                'attribute': 'RECOMMENDED',\n",
    "                'direction': 'DESCENDING',\n",
    "            },\n",
    "            'userSearchToken': 'a5195cc3-f551-4fe3-811e-c8de43126452',\n",
    "            'adStrategy': 'NONE',\n",
    "        },\n",
    "    },\n",
    "}\n",
    "\n",
    "response = requests.post('https://api-v6.streeteasy.com/', cookies=cookies, headers=headers, json=json_data)"
   ]
  },
  {
   "cell_type": "code",
   "execution_count": 51,
   "id": "dbb9df4e-ce91-4b21-9bec-a25b750931c1",
   "metadata": {},
   "outputs": [
    {
     "data": {
      "text/plain": [
       "<Response [200]>"
      ]
     },
     "execution_count": 51,
     "metadata": {},
     "output_type": "execute_result"
    }
   ],
   "source": [
    "response"
   ]
  },
  {
   "cell_type": "code",
   "execution_count": 52,
   "id": "bc739ddb-ffed-4da4-b1a4-74d2cb05dfb6",
   "metadata": {},
   "outputs": [],
   "source": [
    "# turning our response into a JSON type of object\n",
    "\n",
    "parsed = response.json()"
   ]
  },
  {
   "cell_type": "code",
   "execution_count": 53,
   "id": "0904674c-a9d7-4dc5-a1fe-7cc911f8a0ed",
   "metadata": {},
   "outputs": [
    {
     "data": {
      "text/plain": [
       "dict_keys(['data'])"
      ]
     },
     "execution_count": 53,
     "metadata": {},
     "output_type": "execute_result"
    }
   ],
   "source": [
    "# access our data by keys\n",
    "\n",
    "parsed.keys()"
   ]
  },
  {
   "cell_type": "code",
   "execution_count": 54,
   "id": "014eac36-15ee-4f20-baaa-7cab5c109066",
   "metadata": {},
   "outputs": [
    {
     "data": {
      "text/plain": [
       "dict_keys(['searchRentals'])"
      ]
     },
     "execution_count": 54,
     "metadata": {},
     "output_type": "execute_result"
    }
   ],
   "source": [
    "parsed['data'].keys()"
   ]
  },
  {
   "cell_type": "code",
   "execution_count": 55,
   "id": "00dfb76f-802e-418c-8494-7b8c61a6a678",
   "metadata": {},
   "outputs": [
    {
     "data": {
      "text/plain": [
       "dict_keys(['search', 'totalCount', 'edges'])"
      ]
     },
     "execution_count": 55,
     "metadata": {},
     "output_type": "execute_result"
    }
   ],
   "source": [
    "# syntax for accessing data within a dictionary / JSON type object:\n",
    "# use brackets [] to get data\n",
    "\n",
    "parsed['data']['searchRentals'].keys()"
   ]
  },
  {
   "cell_type": "code",
   "execution_count": 56,
   "id": "a51b7b3b-a879-449f-ba2f-04b3407b5fa1",
   "metadata": {},
   "outputs": [
    {
     "data": {
      "text/plain": [
       "{'node': {'id': '4728360',\n",
       "  'areaName': 'Financial District',\n",
       "  'bedroomCount': 0,\n",
       "  'buildingType': 'CONDO',\n",
       "  'fullBathroomCount': 1,\n",
       "  'geoPoint': {'latitude': 40.7079, 'longitude': -74.0141},\n",
       "  'halfBathroomCount': 0,\n",
       "  'noFee': False,\n",
       "  'leadMedia': {'photo': {'key': '9d3aa9edf3f374cad215f40b531e234e'}},\n",
       "  'price': 3350,\n",
       "  'relloExpress': None,\n",
       "  'sourceGroupLabel': 'Douglas Elliman',\n",
       "  'status': 'ACTIVE',\n",
       "  'street': '88 Greenwich Street',\n",
       "  'unit': '527',\n",
       "  'urlPath': '/building/greenwich-club/527'}}"
      ]
     },
     "execution_count": 56,
     "metadata": {},
     "output_type": "execute_result"
    }
   ],
   "source": [
    "# use list indexing [0] to get items from a list within the JSON\n",
    "\n",
    "parsed['data']['searchRentals']['edges'][0]"
   ]
  },
  {
   "cell_type": "code",
   "execution_count": 22,
   "id": "841cbaa5-fb29-4c86-b4a7-e57794198f8f",
   "metadata": {},
   "outputs": [],
   "source": [
    "# saving the search results to a new label for convenience\n",
    "\n",
    "results = parsed['data']['searchRentals']['edges']"
   ]
  },
  {
   "cell_type": "code",
   "execution_count": 29,
   "id": "85f6e993-4565-4a2d-a599-e5711133f4ba",
   "metadata": {},
   "outputs": [
    {
     "data": {
      "text/plain": [
       "dict_keys(['id', 'areaName', 'bedroomCount', 'buildingType', 'fullBathroomCount', 'geoPoint', 'halfBathroomCount', 'noFee', 'leadMedia', 'price', 'relloExpress', 'sourceGroupLabel', 'status', 'street', 'unit', 'urlPath'])"
      ]
     },
     "execution_count": 29,
     "metadata": {},
     "output_type": "execute_result"
    }
   ],
   "source": [
    "results[0]['node'].keys()"
   ]
  },
  {
   "cell_type": "code",
   "execution_count": 27,
   "id": "3980015e-3b0c-4211-ba39-911d88f7aef1",
   "metadata": {},
   "outputs": [
    {
     "name": "stdout",
     "output_type": "stream",
     "text": [
      "3350\n",
      "3800\n",
      "3475\n",
      "3250\n",
      "4115\n",
      "3650\n",
      "3750\n",
      "3995\n",
      "3395\n",
      "4000\n",
      "3400\n",
      "3250\n",
      "3654\n",
      "3618\n",
      "4000\n",
      "3692\n",
      "3150\n",
      "3395\n",
      "3695\n",
      "3850\n",
      "3897\n",
      "3967\n",
      "3727\n",
      "3897\n",
      "3812\n",
      "4000\n",
      "4100\n",
      "3800\n",
      "3680\n",
      "3500\n",
      "3950\n",
      "3617\n",
      "3800\n",
      "3300\n",
      "4000\n",
      "3450\n",
      "3200\n",
      "2850\n",
      "3700\n",
      "4000\n",
      "3300\n",
      "3200\n",
      "3840\n",
      "3200\n",
      "3595\n",
      "3987\n",
      "3712\n",
      "3900\n",
      "4000\n",
      "3800\n",
      "3750\n",
      "3500\n",
      "2900\n",
      "3700\n",
      "3500\n",
      "4000\n",
      "3900\n",
      "4050\n",
      "3375\n",
      "3950\n",
      "4200\n",
      "4300\n",
      "3500\n",
      "3925\n",
      "3595\n",
      "3000\n",
      "4290\n",
      "3700\n",
      "3375\n",
      "3825\n",
      "3780\n",
      "3695\n",
      "3745\n",
      "3922\n",
      "3338\n",
      "3450\n",
      "3260\n",
      "3975\n",
      "3995\n",
      "3495\n",
      "3250\n",
      "3595\n",
      "3500\n",
      "4000\n",
      "3600\n",
      "3800\n",
      "3515\n",
      "3645\n",
      "3595\n",
      "3800\n"
     ]
    }
   ],
   "source": [
    "for i in results:\n",
    "    print(i['node']['price'])"
   ]
  },
  {
   "cell_type": "markdown",
   "id": "11ef8b99-16dd-4d5f-925e-13cf7e834506",
   "metadata": {},
   "source": [
    "## automate XHR request"
   ]
  },
  {
   "cell_type": "code",
   "execution_count": 41,
   "id": "835e5ca9-2f81-4f5c-a206-ee001f9695dc",
   "metadata": {},
   "outputs": [],
   "source": [
    "# port the request into a function\n",
    "# takes \"price\" as a parameter\n",
    "\n",
    "def search_apartments(price):\n",
    "    cookies = {\n",
    "        '_gcl_au': '1.1.446932764.1749141931',\n",
    "        '_pxvid': '7e3e8161-422c-11f0-a651-b59a465fa18c',\n",
    "        'zjs_anonymous_id': '%222fa18a64-3f15-45e7-a9c2-430cff475eac%22',\n",
    "        'zjs_user_id': 'null',\n",
    "        'zjs_user_id_type': '%22encoded_zuid%22',\n",
    "        'zg_anonymous_id': '%2266c5f0f5-7e51-48e8-a41b-4fee75195c85%22',\n",
    "        '_px3': '13599405f5a36b4da8b8061557d7752403ad32d6f204a174b8850ba987276e22:Hkhh+jCIHdmDQ2H/C76TdHQ3/JlKUUK07jTfgRPHEMZhD2yksqyjboL9R0Y0Z6p44Ngg0aTUsjGQt4CUS2uz7w==:1000:o2R7h2bOExOQi6bLKD+kPZr+ZewyKZZQyEzBBAJMSaWYHQdx37wHVuoLTYb4X61/Qq6ccxnL9LKEisMNI5Odh7/UzstrrcFRmz1l2pZ9qsxOhA2RarCzUWyvvl8EFM+cSz5q1qr2MqgAvyYEKMF+FS7Stk5xNmNH8ibOfTsnfHo3lbwmYWZCkUr2F7eY5tDw/hR89/4Uwtt07Wr96ACVRYRp1inSpPDDqrV6qztXN7M=',\n",
    "        '_pin_unauth': 'dWlkPU16WTROall4T0RjdFltVTVOUzAwTTJKa0xUZzRZVEV0Tmpoa016RmlOREJtTnpjdw',\n",
    "        '_ses': 'Z09HOHFlclVCVWpRaC8wZnJ5aHhFWHM2cnFEdE81aUxUTHdTenZVd0RvaEM4OTYvcWdWTHAwNDRQN0tUbHBWamdWTElsYnBpaFoycmNjR1ZzWWF2cDI4ak1sUmh4RmFsNU41cGQ3SjFJWU0zQytrMFRQcUgvbXdWaVc3L3lWQ3hMZ0RQajRxYjlyU25majdvV1ZvT0tyWFBkdjZlMkxhL2R3SCtCdElBWThvPS0tVFFrNW5NR3pUdTh0WU5scUNReXoyZz09--3b6fc0a8eab279aded5431debf9209c20b92e9a5',\n",
    "        'pxcts': '3c08fbd1-4543-11f0-a60f-e28daa0ee3c0',\n",
    "        'srp': 'v2',\n",
    "    }\n",
    "\n",
    "    headers = {\n",
    "        'User-Agent': 'Mozilla/5.0 (Macintosh; Intel Mac OS X 10.15; rv:139.0) Gecko/20100101 Firefox/139.0',\n",
    "        'Accept': 'application/json',\n",
    "        'Accept-Language': 'en-US,en;q=0.5',\n",
    "        # 'Accept-Encoding': 'gzip, deflate, br, zstd',\n",
    "        'Referer': 'https://streeteasy.com/',\n",
    "        'app-version': '1.0.0',\n",
    "        'os': 'web',\n",
    "        'Content-Type': 'application/json',\n",
    "        'X-Forwarded-Proto': 'https',\n",
    "        'apollographql-client-name': 'srp-frontend-service',\n",
    "        'apollographql-client-version': 'version  c782ff4b61fecbca6efce495cc936e8b5a549a62',\n",
    "        'Origin': 'https://streeteasy.com',\n",
    "        'Connection': 'keep-alive',\n",
    "        # 'Cookie': '_gcl_au=1.1.446932764.1749141931; _pxvid=7e3e8161-422c-11f0-a651-b59a465fa18c; zjs_anonymous_id=%222fa18a64-3f15-45e7-a9c2-430cff475eac%22; zjs_user_id=null; zjs_user_id_type=%22encoded_zuid%22; zg_anonymous_id=%2266c5f0f5-7e51-48e8-a41b-4fee75195c85%22; _px3=13599405f5a36b4da8b8061557d7752403ad32d6f204a174b8850ba987276e22:Hkhh+jCIHdmDQ2H/C76TdHQ3/JlKUUK07jTfgRPHEMZhD2yksqyjboL9R0Y0Z6p44Ngg0aTUsjGQt4CUS2uz7w==:1000:o2R7h2bOExOQi6bLKD+kPZr+ZewyKZZQyEzBBAJMSaWYHQdx37wHVuoLTYb4X61/Qq6ccxnL9LKEisMNI5Odh7/UzstrrcFRmz1l2pZ9qsxOhA2RarCzUWyvvl8EFM+cSz5q1qr2MqgAvyYEKMF+FS7Stk5xNmNH8ibOfTsnfHo3lbwmYWZCkUr2F7eY5tDw/hR89/4Uwtt07Wr96ACVRYRp1inSpPDDqrV6qztXN7M=; _pin_unauth=dWlkPU16WTROall4T0RjdFltVTVOUzAwTTJKa0xUZzRZVEV0Tmpoa016RmlOREJtTnpjdw; _ses=Z09HOHFlclVCVWpRaC8wZnJ5aHhFWHM2cnFEdE81aUxUTHdTenZVd0RvaEM4OTYvcWdWTHAwNDRQN0tUbHBWamdWTElsYnBpaFoycmNjR1ZzWWF2cDI4ak1sUmh4RmFsNU41cGQ3SjFJWU0zQytrMFRQcUgvbXdWaVc3L3lWQ3hMZ0RQajRxYjlyU25majdvV1ZvT0tyWFBkdjZlMkxhL2R3SCtCdElBWThvPS0tVFFrNW5NR3pUdTh0WU5scUNReXoyZz09--3b6fc0a8eab279aded5431debf9209c20b92e9a5; pxcts=3c08fbd1-4543-11f0-a60f-e28daa0ee3c0; srp=v2',\n",
    "        'Sec-Fetch-Dest': 'empty',\n",
    "        'Sec-Fetch-Mode': 'cors',\n",
    "        'Sec-Fetch-Site': 'same-site',\n",
    "        'Sec-GPC': '1',\n",
    "        'Priority': 'u=4',\n",
    "        # Requests doesn't support trailers\n",
    "        # 'TE': 'trailers',\n",
    "    }\n",
    "\n",
    "    json_data = {\n",
    "        'query': '\\n  query GetListingRental($input: SearchRentalsInput!) {\\n    searchRentals(input: $input) {\\n      search {\\n        criteria\\n      }\\n      totalCount\\n      edges {\\n        ... on OrganicRentalEdge {\\n          node {\\n            id\\n            areaName\\n            bedroomCount\\n            buildingType\\n            fullBathroomCount\\n            geoPoint {\\n              latitude\\n              longitude\\n            }\\n            halfBathroomCount\\n            noFee\\n            leadMedia {\\n              photo {\\n                  key\\n              }\\n            }\\n            price\\n            relloExpress {\\n              ctaEnabled\\n              link\\n              rentalId\\n            }\\n            sourceGroupLabel\\n            status\\n            street\\n            unit\\n            urlPath\\n          }\\n        }\\n      }\\n    }\\n  }\\n',\n",
    "        'variables': {\n",
    "            'input': {\n",
    "                'filters': {\n",
    "                    'rentalStatus': 'ACTIVE',\n",
    "                    'areas': [\n",
    "                        104,\n",
    "                    ],\n",
    "                    'price': {\n",
    "                        'lowerBound': None,\n",
    "                        'upperBound': price,\n",
    "                    },\n",
    "                },\n",
    "                'page': 1,\n",
    "                'perPage': 500,\n",
    "                'sorting': {\n",
    "                    'attribute': 'RECOMMENDED',\n",
    "                    'direction': 'DESCENDING',\n",
    "                },\n",
    "                'userSearchToken': 'a5195cc3-f551-4fe3-811e-c8de43126452',\n",
    "                'adStrategy': 'NONE',\n",
    "            },\n",
    "        },\n",
    "    }\n",
    "\n",
    "    response = requests.post('https://api-v6.streeteasy.com/', cookies=cookies, headers=headers, json=json_data)\n",
    "\n",
    "    return response.json()"
   ]
  },
  {
   "cell_type": "code",
   "execution_count": 42,
   "id": "40ded287-0faa-49d1-9d2a-e92ab17ec020",
   "metadata": {},
   "outputs": [],
   "source": [
    "# makes request for apartments less than 10K\n",
    "\n",
    "r = search_apartments(10000)"
   ]
  },
  {
   "cell_type": "code",
   "execution_count": 48,
   "id": "de70b29d-a2c5-41a0-a252-353664858711",
   "metadata": {},
   "outputs": [
    {
     "data": {
      "text/plain": [
       "{'node': {'id': '4616208',\n",
       "  'areaName': 'Fulton/Seaport',\n",
       "  'bedroomCount': 2,\n",
       "  'buildingType': 'CO_OP',\n",
       "  'fullBathroomCount': 1,\n",
       "  'geoPoint': {'latitude': 40.7093, 'longitude': -74.0036},\n",
       "  'halfBathroomCount': 0,\n",
       "  'noFee': False,\n",
       "  'leadMedia': {'photo': {'key': '0aa0825eeb3f48d263ad7a5c921e4de6'}},\n",
       "  'price': 4700,\n",
       "  'relloExpress': None,\n",
       "  'sourceGroupLabel': 'Manhattan Realty Group',\n",
       "  'status': 'ACTIVE',\n",
       "  'street': '333 Pearl Street',\n",
       "  'unit': '23B',\n",
       "  'urlPath': '/building/333-pearl-street-new_york/23b'}}"
      ]
     },
     "execution_count": 48,
     "metadata": {},
     "output_type": "execute_result"
    }
   ],
   "source": [
    "# we can access the data using dictionary syntax\n",
    "\n",
    "r['data']['searchRentals']['edges'][0]"
   ]
  }
 ],
 "metadata": {
  "kernelspec": {
   "display_name": "Python 3 (ipykernel)",
   "language": "python",
   "name": "python3"
  },
  "language_info": {
   "codemirror_mode": {
    "name": "ipython",
    "version": 3
   },
   "file_extension": ".py",
   "mimetype": "text/x-python",
   "name": "python",
   "nbconvert_exporter": "python",
   "pygments_lexer": "ipython3",
   "version": "3.11.11"
  }
 },
 "nbformat": 4,
 "nbformat_minor": 5
}
