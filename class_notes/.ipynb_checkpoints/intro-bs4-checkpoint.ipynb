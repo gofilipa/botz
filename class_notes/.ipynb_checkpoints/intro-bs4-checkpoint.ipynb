{
 "cells": [
  {
   "cell_type": "code",
   "execution_count": 1,
   "id": "e79d22e0-f5a2-4545-8cab-f5ea605fd2bb",
   "metadata": {},
   "outputs": [],
   "source": [
    "## import below libraries for scraping\n",
    "## if \"module not found\" error, then download library with pip or conda\n",
    "\n",
    "import requests\n",
    "import lxml\n",
    "from bs4 import BeautifulSoup"
   ]
  },
  {
   "cell_type": "code",
   "execution_count": 2,
   "id": "881de306-9bd1-4e4e-bee6-0e1465627250",
   "metadata": {},
   "outputs": [],
   "source": [
    "# our request to get html data\n",
    "\n",
    "url = 'https://www.nytimes.com/'\n",
    "r = requests.get(url)"
   ]
  },
  {
   "cell_type": "code",
   "execution_count": 3,
   "id": "50ad496f-4bcd-4ba4-99b5-18d254174f2a",
   "metadata": {},
   "outputs": [],
   "source": [
    "# getting the html content and passing into BeautifulSoup class\n",
    "\n",
    "source = r.content\n",
    "soup = BeautifulSoup(source, 'lxml')"
   ]
  },
  {
   "cell_type": "code",
   "execution_count": 4,
   "id": "e165b7e7-b58b-47cd-84a4-6e4a6b51f7bc",
   "metadata": {},
   "outputs": [
    {
     "data": {
      "text/plain": [
       "<title data-rh=\"true\">The New York Times - Breaking News, US News, World News and Videos</title>"
      ]
     },
     "execution_count": 4,
     "metadata": {},
     "output_type": "execute_result"
    }
   ],
   "source": [
    "# can access html elements with python\n",
    "\n",
    "soup.title"
   ]
  },
  {
   "cell_type": "code",
   "execution_count": 5,
   "id": "e4a90c0d-1945-4488-9bff-1dd330021419",
   "metadata": {},
   "outputs": [
    {
     "data": {
      "text/plain": [
       "<p>Make sense of the day’s news and ideas.</p>"
      ]
     },
     "execution_count": 5,
     "metadata": {},
     "output_type": "execute_result"
    }
   ],
   "source": [
    "# how to get just the text of one of the headlines?\n",
    "\n",
    "soup.p"
   ]
  },
  {
   "cell_type": "code",
   "execution_count": 6,
   "id": "3c3266da-eff8-401c-be31-bc0a9def554d",
   "metadata": {},
   "outputs": [
    {
     "data": {
      "text/plain": [
       "'The New York Times - Breaking News, US News, World News and Videos'"
      ]
     },
     "execution_count": 6,
     "metadata": {},
     "output_type": "execute_result"
    }
   ],
   "source": [
    "# can access text\n",
    "\n",
    "soup.title.text"
   ]
  },
  {
   "cell_type": "code",
   "execution_count": 23,
   "id": "d2b3c8cc-9df4-4bdf-85b1-e003fbf6e370",
   "metadata": {},
   "outputs": [
    {
     "data": {
      "text/plain": [
       "'Judge Intends to Block Trump Effort to Bar Foreign Students From Harvard'"
      ]
     },
     "execution_count": 23,
     "metadata": {},
     "output_type": "execute_result"
    }
   ],
   "source": [
    "# find() and find_all() functions allows more specificity, like css classes\n",
    "\n",
    "soup.find('p', class_= 'css-1gg6cw2')"
   ]
  },
  {
   "cell_type": "code",
   "execution_count": 7,
   "id": "988ad801-954b-4427-b687-6027fd7d5b2c",
   "metadata": {},
   "outputs": [
    {
     "data": {
      "text/plain": [
       "[<p class=\"indicate-hover css-91bpc3\">Trump Makes a New Push to ‘Decouple’ U.S. From China</p>,\n",
       " <p class=\"indicate-hover css-91bpc3\">Trump Accuses China of Breaking Trade Truce</p>,\n",
       " <p class=\"indicate-hover css-91bpc3\">Elon Musk Leaves Washington Behind but With Powerful Friends in Place</p>,\n",
       " <p class=\"indicate-hover css-91bpc3\">White House Health Report Included Fake Citations</p>,\n",
       " <p class=\"indicate-hover css-91bpc3\">On the Campaign Trail, Elon Musk Juggled Drugs and Family Drama</p>,\n",
       " <p class=\"indicate-hover css-91bpc3\">Israel Seeks to Clear Much of Northern Gaza, Warning of Combat to Come</p>,\n",
       " <p class=\"indicate-hover css-91bpc3\">In Emaciated Children, Gaza’s Hunger Is Laid Bare</p>,\n",
       " <p class=\"indicate-hover css-91bpc3\">Tariff Ruling Gives Businesses Hope, but They’re Soon Unmoored Again</p>,\n",
       " <p class=\"indicate-hover css-91bpc3\">A Native American Mascot Debate Is Turned Upside Down</p>,\n",
       " <p class=\"indicate-hover css-91bpc3\">Ukraine Accuses Russia of Stalling Peace Negotiations</p>,\n",
       " <p class=\"indicate-hover css-91bpc3\">A Girl Struggles to Survive Her Country’s War and Her Own</p>,\n",
       " <p class=\"indicate-hover css-91bpc3\">For Some Recent Graduates, the A.I. Job Apocalypse May Already Be Here</p>,\n",
       " <p class=\"indicate-hover css-91bpc3\">Judge Hears Final Arguments on How to Fix Google’s Search Monopoly</p>,\n",
       " <p class=\"indicate-hover css-91bpc3\">The Tennis Court That Is an Amphitheater of Heaven and Hell</p>,\n",
       " <p class=\"indicate-hover css-91bpc3\">Sean Combs’s Ex-Assistant Details Her Chaotic Life Working for ‘Puff’</p>,\n",
       " <p class=\"indicate-hover css-91bpc3\">Taylor Swift Buys Back Rights to Her First 6 Albums</p>,\n",
       " <p class=\"indicate-hover css-91bpc3\">Afrikaners See Trump as the Ally Who ‘Heard Our Cries’</p>,\n",
       " <p class=\"indicate-hover css-91bpc3\">One Killed and at Least 7 Are Injured in Tornado in Kentucky, Officials Say</p>]"
      ]
     },
     "execution_count": 7,
     "metadata": {},
     "output_type": "execute_result"
    }
   ],
   "source": [
    "# find_all() returns a list-like object\n",
    "\n",
    "soup.find_all('p', class_ = 'css-91bpc3')"
   ]
  },
  {
   "cell_type": "code",
   "execution_count": 26,
   "id": "71ef50c0-d99e-48e2-badf-eb486f1f4a10",
   "metadata": {},
   "outputs": [
    {
     "ename": "AttributeError",
     "evalue": "ResultSet object has no attribute 'text'. You're probably treating a list of elements like a single element. Did you call find_all() when you meant to call find()?",
     "output_type": "error",
     "traceback": [
      "\u001b[0;31m---------------------------------------------------------------------------\u001b[0m",
      "\u001b[0;31mAttributeError\u001b[0m                            Traceback (most recent call last)",
      "Cell \u001b[0;32mIn[26], line 3\u001b[0m\n\u001b[1;32m      1\u001b[0m \u001b[38;5;66;03m# use find_all to grab as many headlines as you can\u001b[39;00m\n\u001b[0;32m----> 3\u001b[0m soup\u001b[38;5;241m.\u001b[39mfind_all(\u001b[38;5;124m'\u001b[39m\u001b[38;5;124mp\u001b[39m\u001b[38;5;124m'\u001b[39m, class_ \u001b[38;5;241m=\u001b[39m \u001b[38;5;124m'\u001b[39m\u001b[38;5;124mcss-91bpc3\u001b[39m\u001b[38;5;124m'\u001b[39m)\u001b[38;5;241m.\u001b[39mtext\n",
      "File \u001b[0;32m/opt/anaconda3/lib/python3.11/site-packages/bs4/element.py:2433\u001b[0m, in \u001b[0;36mResultSet.__getattr__\u001b[0;34m(self, key)\u001b[0m\n\u001b[1;32m   2431\u001b[0m \u001b[38;5;28;01mdef\u001b[39;00m\u001b[38;5;250m \u001b[39m\u001b[38;5;21m__getattr__\u001b[39m(\u001b[38;5;28mself\u001b[39m, key):\n\u001b[1;32m   2432\u001b[0m \u001b[38;5;250m    \u001b[39m\u001b[38;5;124;03m\"\"\"Raise a helpful exception to explain a common code fix.\"\"\"\u001b[39;00m\n\u001b[0;32m-> 2433\u001b[0m     \u001b[38;5;28;01mraise\u001b[39;00m \u001b[38;5;167;01mAttributeError\u001b[39;00m(\n\u001b[1;32m   2434\u001b[0m         \u001b[38;5;124m\"\u001b[39m\u001b[38;5;124mResultSet object has no attribute \u001b[39m\u001b[38;5;124m'\u001b[39m\u001b[38;5;132;01m%s\u001b[39;00m\u001b[38;5;124m'\u001b[39m\u001b[38;5;124m. You\u001b[39m\u001b[38;5;124m'\u001b[39m\u001b[38;5;124mre probably treating a list of elements like a single element. Did you call find_all() when you meant to call find()?\u001b[39m\u001b[38;5;124m\"\u001b[39m \u001b[38;5;241m%\u001b[39m key\n\u001b[1;32m   2435\u001b[0m     )\n",
      "\u001b[0;31mAttributeError\u001b[0m: ResultSet object has no attribute 'text'. You're probably treating a list of elements like a single element. Did you call find_all() when you meant to call find()?"
     ]
    }
   ],
   "source": [
    "# cannot use .text on find_all(), because it is a list-like object\n",
    "\n",
    "soup.find_all('p', class_ = 'css-91bpc3').text"
   ]
  },
  {
   "cell_type": "code",
   "execution_count": null,
   "id": "7c932002-f6aa-42ec-9010-b3ec66c68258",
   "metadata": {},
   "outputs": [],
   "source": [
    "# solution: loop through the results and extract the text"
   ]
  },
  {
   "cell_type": "code",
   "execution_count": 28,
   "id": "33a77b0a-600a-479a-878d-4ed9b8bb3e0a",
   "metadata": {},
   "outputs": [],
   "source": [
    "# create a list of the headings\n",
    "\n",
    "headings = soup.find_all('p', class_ = 'css-91bpc3')"
   ]
  },
  {
   "cell_type": "code",
   "execution_count": 29,
   "id": "78e691f0-cf7c-4111-9cd2-989753c7d6db",
   "metadata": {},
   "outputs": [
    {
     "data": {
      "text/plain": [
       "bs4.element.ResultSet"
      ]
     },
     "execution_count": 29,
     "metadata": {},
     "output_type": "execute_result"
    }
   ],
   "source": [
    "type(headings)"
   ]
  },
  {
   "cell_type": "code",
   "execution_count": 30,
   "id": "16bb4611-4779-46b6-9e88-070b6644499a",
   "metadata": {},
   "outputs": [],
   "source": [
    "# create an empty list for the heading text\n",
    "# loop through headings and extract heading text\n",
    "\n",
    "headings_text = []\n",
    "for i in headings:\n",
    "    headings_text.append(i.text)"
   ]
  },
  {
   "cell_type": "code",
   "execution_count": 31,
   "id": "7f5556eb-d16e-49b9-8609-4c66c08e02fb",
   "metadata": {},
   "outputs": [
    {
     "data": {
      "text/plain": [
       "['White House Rushes to Preserve Tariff Power',\n",
       " 'Chaos vs. Hope: America’s Trading Partners React Cautiously to Tariff Block',\n",
       " 'Chinese Students Are Frustrated With U.S. Visa Bans: ‘What Now?’',\n",
       " 'To Win Pardons, Trump Allies Echo His Claims of Political Prosecutions',\n",
       " 'A Disillusioned Musk, Distanced From Trump, Says He’s Exiting Washington',\n",
       " 'He Took a Wrong Turn Into Canada. The Price? 3 Weeks in ICE Custody.',\n",
       " 'Russia Appears to Launch New Offensive in Ukraine Amid Peace Talks',\n",
       " 'Deal Maker or Duped? Trump’s Embrace of Putin Shows Few Results.',\n",
       " 'China Moves Uyghurs Far From Home to Work in Factories for Global Brands',\n",
       " 'Israel Bombards Gaza Amid Chaos Surrounding Aid Handouts',\n",
       " 'The Times and Amazon Announce an A.I. Licensing Deal',\n",
       " 'Twilight Falls on a Lost Generation of Men’s Tennis Stars in Paris',\n",
       " 'Oil Companies Are Sued Over Death of Woman in 2021 Heat Wave',\n",
       " 'Supreme Court Curbs Scope of Environmental Reviews',\n",
       " 'An Ex-Employee Testifies That Sean Combs Sexually Assaulted Her',\n",
       " 'The Sacred Undergarment That Has Mormon Women Buzzing']"
      ]
     },
     "execution_count": 31,
     "metadata": {},
     "output_type": "execute_result"
    }
   ],
   "source": [
    "headings_text"
   ]
  },
  {
   "cell_type": "code",
   "execution_count": 32,
   "id": "8cbca537-b918-4cdd-a91c-d2c39fbf4b19",
   "metadata": {},
   "outputs": [],
   "source": [
    "### CHALLENGE:\n",
    "\n",
    "# How would I scrape the search results of the NYT tech page? (searching\n",
    "# for ICE in the search bar)?\n",
    "# and, how would I scrape the text of the individual articles listed? \n",
    "# (JK we will do this last question next class with scrapy!)"
   ]
  },
  {
   "cell_type": "code",
   "execution_count": 33,
   "id": "a11ae9f8-2de3-4f88-9551-e9f479387392",
   "metadata": {},
   "outputs": [],
   "source": [
    "url = 'https://www.nytimes.com/search?query=ice'"
   ]
  },
  {
   "cell_type": "code",
   "execution_count": 34,
   "id": "05806fae-39fa-4a02-8e2e-2da94a945edc",
   "metadata": {},
   "outputs": [],
   "source": [
    "r = requests.get(url)\n",
    "source = r.content\n",
    "soup = BeautifulSoup(source, 'lxml')"
   ]
  },
  {
   "cell_type": "code",
   "execution_count": 40,
   "id": "cdd97743-f1b1-40b0-93e2-312130f781f4",
   "metadata": {},
   "outputs": [],
   "source": [
    "results = soup.find_all('h4', class_ = 'css-nsjm9t')\n",
    "results_text = []\n",
    "\n",
    "for i in results:\n",
    "    results_text.append(i.text)"
   ]
  },
  {
   "cell_type": "code",
   "execution_count": 41,
   "id": "3fdb5fc8-79a0-4273-99e5-1a95216be30a",
   "metadata": {},
   "outputs": [
    {
     "data": {
      "text/plain": [
       "['Top I.R.S. Officials Said to Resign After Deal to Give ICE Migrants’ Data',\n",
       " 'What if ICE Agents Show Up? Schools Prepare Teachers and Parents.',\n",
       " 'An Immigrant Neighborhood Where Trump Made Inroads Now Fears ICE Raids',\n",
       " 'The ICE Raids in Nashville Aren’t About Public Safety',\n",
       " 'ICE Agents Arrest Migrant Who Climbed Tree in Texas to Evade Them',\n",
       " 'What to Know About ICE Enforcement in Restaurants',\n",
       " 'ICE Arrests Nearly 800 in Florida in Operation With Local Officers',\n",
       " 'Trump Backs Down on Russia, and Representative Is Charged After ICE Clash',\n",
       " 'ICE Can’t Enter Rikers for Now, Judge Rules',\n",
       " '6-Day ICE Operation in Florida Resulted in More Than 1,000 Arrests']"
      ]
     },
     "execution_count": 41,
     "metadata": {},
     "output_type": "execute_result"
    }
   ],
   "source": [
    "results_text"
   ]
  },
  {
   "cell_type": "code",
   "execution_count": null,
   "id": "b7543530-65a7-418a-b496-d89d118a092b",
   "metadata": {},
   "outputs": [],
   "source": []
  }
 ],
 "metadata": {
  "kernelspec": {
   "display_name": "Python 3 (ipykernel)",
   "language": "python",
   "name": "python3"
  },
  "language_info": {
   "codemirror_mode": {
    "name": "ipython",
    "version": 3
   },
   "file_extension": ".py",
   "mimetype": "text/x-python",
   "name": "python",
   "nbconvert_exporter": "python",
   "pygments_lexer": "ipython3",
   "version": "3.11.11"
  }
 },
 "nbformat": 4,
 "nbformat_minor": 5
}
